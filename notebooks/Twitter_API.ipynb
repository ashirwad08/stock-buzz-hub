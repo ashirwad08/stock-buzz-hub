{
 "cells": [
  {
   "cell_type": "markdown",
   "metadata": {},
   "source": [
    "# Twitter API"
   ]
  },
  {
   "cell_type": "markdown",
   "metadata": {},
   "source": [
    "## Lecture Notes"
   ]
  },
  {
   "cell_type": "markdown",
   "metadata": {},
   "source": [
    "##### Why Twitter ?\n",
    "\n",
    "\n",
    "\"While physics and math may tell us how the universe began, they are not much use in predicting Human Behavior because there are far too many Equations to Solve\" \n",
    "    \n",
    "    -Stephan Hawking\n",
    "    "
   ]
  },
  {
   "cell_type": "markdown",
   "metadata": {},
   "source": [
    "#### Rest API vs Streaming API: \n",
    "\n",
    "\n",
    "REST:  \n",
    "    - Query user accounts using OAuth\n",
    "    - Allows you to access 'historical' tweets\n",
    "\n",
    "STREAM: \n",
    "    - Essentially long-running request (left Open) using OAuth\n",
    "    - Access realtime stream of data\n",
    "       "
   ]
  },
  {
   "cell_type": "markdown",
   "metadata": {},
   "source": [
    "### Twitter API Documentation\n",
    "\n",
    "https://dev.twitter.com/"
   ]
  },
  {
   "cell_type": "markdown",
   "metadata": {},
   "source": [
    "#### Rest API"
   ]
  },
  {
   "cell_type": "code",
   "execution_count": null,
   "metadata": {
    "collapsed": true
   },
   "outputs": [],
   "source": [
    "from __future__ import print_function, division"
   ]
  },
  {
   "cell_type": "code",
   "execution_count": null,
   "metadata": {
    "collapsed": true
   },
   "outputs": [],
   "source": [
    "#pip install requests_oauthlib"
   ]
  },
  {
   "cell_type": "code",
   "execution_count": 346,
   "metadata": {
    "collapsed": false
   },
   "outputs": [],
   "source": [
    "import requests\n",
    "from requests_oauthlib import OAuth1\n",
    "import pandas as pd\n",
    "\n",
    "#OAuth ~ simple way to to publish & interact with data"
   ]
  },
  {
   "cell_type": "code",
   "execution_count": 347,
   "metadata": {
    "collapsed": false
   },
   "outputs": [
    {
     "data": {
      "text/plain": [
       "'/Users/ash'"
      ]
     },
     "execution_count": 347,
     "metadata": {},
     "output_type": "execute_result"
    }
   ],
   "source": [
    "# Retrieve the home directory so we can find our .twitter_config\n",
    "from os.path import expanduser\n",
    "home = expanduser(\"~\")\n",
    "home"
   ]
  },
  {
   "cell_type": "code",
   "execution_count": 348,
   "metadata": {
    "collapsed": false
   },
   "outputs": [],
   "source": [
    "# Importing our Config\n",
    "\n",
    "#pip install cnfg\n",
    "\n",
    "import cnfg\n",
    "config = cnfg.load(home + \"/.twitter_config\")\n",
    "\n",
    "oauth = OAuth1(config[\"consumer_key\"],\n",
    "               config[\"consumer_secret\"],\n",
    "               config[\"access_token\"],\n",
    "               config[\"access_token_secret\"])"
   ]
  },
  {
   "cell_type": "code",
   "execution_count": null,
   "metadata": {
    "collapsed": false
   },
   "outputs": [],
   "source": [
    "response = requests.get(\"https://api.twitter.com/1.1/statuses/user_timeline.json\",\n",
    "                        auth=oauth)\n",
    "\n",
    "tweets = response.json()"
   ]
  },
  {
   "cell_type": "code",
   "execution_count": null,
   "metadata": {
    "collapsed": false
   },
   "outputs": [],
   "source": [
    "for tweet in tweets:\n",
    "    print(tweet['text'], \"\\n\")"
   ]
  },
  {
   "cell_type": "code",
   "execution_count": null,
   "metadata": {
    "collapsed": false
   },
   "outputs": [],
   "source": [
    "for key in tweets[0].keys():\n",
    "    print(key)"
   ]
  },
  {
   "cell_type": "code",
   "execution_count": null,
   "metadata": {
    "collapsed": false
   },
   "outputs": [],
   "source": [
    "parameters = {\"q\": \"oscars\", \"count\":20}\n",
    "response = requests.get(\"https://api.twitter.com/1.1/search/tweets.json\",\n",
    "                        params = parameters,\n",
    "                        auth=oauth)\n",
    "\n",
    "from pprint import pprint\n",
    "pprint(response.json()['search_metadata'])"
   ]
  },
  {
   "cell_type": "code",
   "execution_count": null,
   "metadata": {
    "collapsed": false
   },
   "outputs": [],
   "source": [
    "tweets = response.json()['statuses']\n",
    "\n",
    "print('PAGE 1')\n",
    "for tweet in tweets:\n",
    "    print(tweet['id'], tweet['text'], '\\n')"
   ]
  },
  {
   "cell_type": "markdown",
   "metadata": {
    "collapsed": false
   },
   "source": [
    "#### STREAMING API ~ [TWEEPY](http://www.tweepy.org/)"
   ]
  },
  {
   "cell_type": "code",
   "execution_count": 349,
   "metadata": {
    "collapsed": false
   },
   "outputs": [],
   "source": [
    "# pip install tweepy\n",
    "import tweepy\n",
    "\n",
    "auth = tweepy.OAuthHandler(config[\"consumer_key\"],\n",
    "                           config[\"consumer_secret\"])\n",
    "auth.set_access_token(config[\"access_token\"],\n",
    "                      config[\"access_token_secret\"])\n",
    "\n",
    "api=tweepy.API(auth)"
   ]
  },
  {
   "cell_type": "code",
   "execution_count": 350,
   "metadata": {
    "collapsed": false
   },
   "outputs": [
    {
     "name": "stdout",
     "output_type": "stream",
     "text": [
      "<tweepy.api.API object at 0x11cebb910>\n"
     ]
    }
   ],
   "source": [
    "print(api)"
   ]
  },
  {
   "cell_type": "code",
   "execution_count": 336,
   "metadata": {
    "collapsed": true
   },
   "outputs": [],
   "source": [
    "tweepyCurs=tweepy.Cursor(api.search, q='#tsla, $tsla, tsla')"
   ]
  },
  {
   "cell_type": "code",
   "execution_count": 351,
   "metadata": {
    "collapsed": false
   },
   "outputs": [],
   "source": [
    "from pprint import pprint"
   ]
  },
  {
   "cell_type": "code",
   "execution_count": 338,
   "metadata": {
    "collapsed": true
   },
   "outputs": [
    {
     "ename": "TweepError",
     "evalue": "Failed to send request: HTTPSConnectionPool(host='api.twitter.com', port=443): Max retries exceeded with url: /1.1/search/tweets.json?q=%23tsla%2C+%24tsla%2C+tsla (Caused by NewConnectionError('<requests.packages.urllib3.connection.VerifiedHTTPSConnection object at 0x116d0b8d0>: Failed to establish a new connection: [Errno 8] nodename nor servname provided, or not known',))",
     "output_type": "error",
     "traceback": [
      "\u001b[0;31m---------------------------------------------------------------------------\u001b[0m",
      "\u001b[0;31mTweepError\u001b[0m                                Traceback (most recent call last)",
      "\u001b[0;32m<ipython-input-338-0fe097a9b6db>\u001b[0m in \u001b[0;36m<module>\u001b[0;34m()\u001b[0m\n\u001b[1;32m      4\u001b[0m \u001b[0;31m#Tweepy Cursor handles pagination ..\u001b[0m\u001b[0;34m\u001b[0m\u001b[0;34m\u001b[0m\u001b[0m\n\u001b[1;32m      5\u001b[0m \u001b[0;34m\u001b[0m\u001b[0m\n\u001b[0;32m----> 6\u001b[0;31m \u001b[0;32mfor\u001b[0m \u001b[0mtweet\u001b[0m \u001b[0;32min\u001b[0m \u001b[0mtweepyCurs\u001b[0m\u001b[0;34m.\u001b[0m\u001b[0mitems\u001b[0m\u001b[0;34m(\u001b[0m\u001b[0mmax_tweets\u001b[0m\u001b[0;34m)\u001b[0m\u001b[0;34m:\u001b[0m\u001b[0;34m\u001b[0m\u001b[0m\n\u001b[0m\u001b[1;32m      7\u001b[0m     \u001b[0mpprint\u001b[0m\u001b[0;34m(\u001b[0m\u001b[0mtweet\u001b[0m\u001b[0;34m)\u001b[0m\u001b[0;34m\u001b[0m\u001b[0m\n",
      "\u001b[0;32m/Users/ash/anaconda/lib/python2.7/site-packages/tweepy/cursor.pyc\u001b[0m in \u001b[0;36mnext\u001b[0;34m(self)\u001b[0m\n\u001b[1;32m    195\u001b[0m         \u001b[0;32mif\u001b[0m \u001b[0mself\u001b[0m\u001b[0;34m.\u001b[0m\u001b[0mcurrent_page\u001b[0m \u001b[0;32mis\u001b[0m \u001b[0mNone\u001b[0m \u001b[0;32mor\u001b[0m \u001b[0mself\u001b[0m\u001b[0;34m.\u001b[0m\u001b[0mpage_index\u001b[0m \u001b[0;34m==\u001b[0m \u001b[0mlen\u001b[0m\u001b[0;34m(\u001b[0m\u001b[0mself\u001b[0m\u001b[0;34m.\u001b[0m\u001b[0mcurrent_page\u001b[0m\u001b[0;34m)\u001b[0m \u001b[0;34m-\u001b[0m \u001b[0;36m1\u001b[0m\u001b[0;34m:\u001b[0m\u001b[0;34m\u001b[0m\u001b[0m\n\u001b[1;32m    196\u001b[0m             \u001b[0;31m# Reached end of current page, get the next page...\u001b[0m\u001b[0;34m\u001b[0m\u001b[0;34m\u001b[0m\u001b[0m\n\u001b[0;32m--> 197\u001b[0;31m             \u001b[0mself\u001b[0m\u001b[0;34m.\u001b[0m\u001b[0mcurrent_page\u001b[0m \u001b[0;34m=\u001b[0m \u001b[0mself\u001b[0m\u001b[0;34m.\u001b[0m\u001b[0mpage_iterator\u001b[0m\u001b[0;34m.\u001b[0m\u001b[0mnext\u001b[0m\u001b[0;34m(\u001b[0m\u001b[0;34m)\u001b[0m\u001b[0;34m\u001b[0m\u001b[0m\n\u001b[0m\u001b[1;32m    198\u001b[0m             \u001b[0mself\u001b[0m\u001b[0;34m.\u001b[0m\u001b[0mpage_index\u001b[0m \u001b[0;34m=\u001b[0m \u001b[0;34m-\u001b[0m\u001b[0;36m1\u001b[0m\u001b[0;34m\u001b[0m\u001b[0m\n\u001b[1;32m    199\u001b[0m         \u001b[0mself\u001b[0m\u001b[0;34m.\u001b[0m\u001b[0mpage_index\u001b[0m \u001b[0;34m+=\u001b[0m \u001b[0;36m1\u001b[0m\u001b[0;34m\u001b[0m\u001b[0m\n",
      "\u001b[0;32m/Users/ash/anaconda/lib/python2.7/site-packages/tweepy/cursor.pyc\u001b[0m in \u001b[0;36mnext\u001b[0;34m(self)\u001b[0m\n\u001b[1;32m    106\u001b[0m \u001b[0;34m\u001b[0m\u001b[0m\n\u001b[1;32m    107\u001b[0m         \u001b[0;32mif\u001b[0m \u001b[0mself\u001b[0m\u001b[0;34m.\u001b[0m\u001b[0mindex\u001b[0m \u001b[0;34m>=\u001b[0m \u001b[0mlen\u001b[0m\u001b[0;34m(\u001b[0m\u001b[0mself\u001b[0m\u001b[0;34m.\u001b[0m\u001b[0mresults\u001b[0m\u001b[0;34m)\u001b[0m \u001b[0;34m-\u001b[0m \u001b[0;36m1\u001b[0m\u001b[0;34m:\u001b[0m\u001b[0;34m\u001b[0m\u001b[0m\n\u001b[0;32m--> 108\u001b[0;31m             \u001b[0mdata\u001b[0m \u001b[0;34m=\u001b[0m \u001b[0mself\u001b[0m\u001b[0;34m.\u001b[0m\u001b[0mmethod\u001b[0m\u001b[0;34m(\u001b[0m\u001b[0mmax_id\u001b[0m\u001b[0;34m=\u001b[0m\u001b[0mself\u001b[0m\u001b[0;34m.\u001b[0m\u001b[0mmax_id\u001b[0m\u001b[0;34m,\u001b[0m \u001b[0mparser\u001b[0m\u001b[0;34m=\u001b[0m\u001b[0mRawParser\u001b[0m\u001b[0;34m(\u001b[0m\u001b[0;34m)\u001b[0m\u001b[0;34m,\u001b[0m \u001b[0;34m*\u001b[0m\u001b[0mself\u001b[0m\u001b[0;34m.\u001b[0m\u001b[0margs\u001b[0m\u001b[0;34m,\u001b[0m \u001b[0;34m**\u001b[0m\u001b[0mself\u001b[0m\u001b[0;34m.\u001b[0m\u001b[0mkargs\u001b[0m\u001b[0;34m)\u001b[0m\u001b[0;34m\u001b[0m\u001b[0m\n\u001b[0m\u001b[1;32m    109\u001b[0m \u001b[0;34m\u001b[0m\u001b[0m\n\u001b[1;32m    110\u001b[0m             \u001b[0;32mif\u001b[0m \u001b[0mhasattr\u001b[0m\u001b[0;34m(\u001b[0m\u001b[0mself\u001b[0m\u001b[0;34m.\u001b[0m\u001b[0mmethod\u001b[0m\u001b[0;34m,\u001b[0m \u001b[0;34m'__self__'\u001b[0m\u001b[0;34m)\u001b[0m\u001b[0;34m:\u001b[0m\u001b[0;34m\u001b[0m\u001b[0m\n",
      "\u001b[0;32m/Users/ash/anaconda/lib/python2.7/site-packages/tweepy/binder.pyc\u001b[0m in \u001b[0;36m_call\u001b[0;34m(*args, **kwargs)\u001b[0m\n\u001b[1;32m    243\u001b[0m             \u001b[0;32mreturn\u001b[0m \u001b[0mmethod\u001b[0m\u001b[0;34m\u001b[0m\u001b[0m\n\u001b[1;32m    244\u001b[0m         \u001b[0;32melse\u001b[0m\u001b[0;34m:\u001b[0m\u001b[0;34m\u001b[0m\u001b[0m\n\u001b[0;32m--> 245\u001b[0;31m             \u001b[0;32mreturn\u001b[0m \u001b[0mmethod\u001b[0m\u001b[0;34m.\u001b[0m\u001b[0mexecute\u001b[0m\u001b[0;34m(\u001b[0m\u001b[0;34m)\u001b[0m\u001b[0;34m\u001b[0m\u001b[0m\n\u001b[0m\u001b[1;32m    246\u001b[0m \u001b[0;34m\u001b[0m\u001b[0m\n\u001b[1;32m    247\u001b[0m     \u001b[0;31m# Set pagination mode\u001b[0m\u001b[0;34m\u001b[0m\u001b[0;34m\u001b[0m\u001b[0m\n",
      "\u001b[0;32m/Users/ash/anaconda/lib/python2.7/site-packages/tweepy/binder.pyc\u001b[0m in \u001b[0;36mexecute\u001b[0;34m(self)\u001b[0m\n\u001b[1;32m    187\u001b[0m                                                 proxies=self.api.proxy)\n\u001b[1;32m    188\u001b[0m                 \u001b[0;32mexcept\u001b[0m \u001b[0mException\u001b[0m \u001b[0;32mas\u001b[0m \u001b[0me\u001b[0m\u001b[0;34m:\u001b[0m\u001b[0;34m\u001b[0m\u001b[0m\n\u001b[0;32m--> 189\u001b[0;31m                     \u001b[0;32mraise\u001b[0m \u001b[0mTweepError\u001b[0m\u001b[0;34m(\u001b[0m\u001b[0;34m'Failed to send request: %s'\u001b[0m \u001b[0;34m%\u001b[0m \u001b[0me\u001b[0m\u001b[0;34m)\u001b[0m\u001b[0;34m\u001b[0m\u001b[0m\n\u001b[0m\u001b[1;32m    190\u001b[0m                 \u001b[0mrem_calls\u001b[0m \u001b[0;34m=\u001b[0m \u001b[0mresp\u001b[0m\u001b[0;34m.\u001b[0m\u001b[0mheaders\u001b[0m\u001b[0;34m.\u001b[0m\u001b[0mget\u001b[0m\u001b[0;34m(\u001b[0m\u001b[0;34m'x-rate-limit-remaining'\u001b[0m\u001b[0;34m)\u001b[0m\u001b[0;34m\u001b[0m\u001b[0m\n\u001b[1;32m    191\u001b[0m                 \u001b[0;32mif\u001b[0m \u001b[0mrem_calls\u001b[0m \u001b[0;32mis\u001b[0m \u001b[0;32mnot\u001b[0m \u001b[0mNone\u001b[0m\u001b[0;34m:\u001b[0m\u001b[0;34m\u001b[0m\u001b[0m\n",
      "\u001b[0;31mTweepError\u001b[0m: Failed to send request: HTTPSConnectionPool(host='api.twitter.com', port=443): Max retries exceeded with url: /1.1/search/tweets.json?q=%23tsla%2C+%24tsla%2C+tsla (Caused by NewConnectionError('<requests.packages.urllib3.connection.VerifiedHTTPSConnection object at 0x116d0b8d0>: Failed to establish a new connection: [Errno 8] nodename nor servname provided, or not known',))"
     ]
    }
   ],
   "source": [
    "\n",
    "max_tweets=1\n",
    "\n",
    "#Tweepy Cursor handles pagination .. \n",
    "\n",
    "for tweet in tweepyCurs.items(max_tweets):\n",
    "    pprint(tweet)"
   ]
  },
  {
   "cell_type": "code",
   "execution_count": 352,
   "metadata": {
    "collapsed": true
   },
   "outputs": [],
   "source": [
    "results=[]\n",
    "\n",
    "\n",
    "for tweet in tweepy.Cursor(api.search,q=\"#aapl,$aapl,apple\").items(100):\n",
    "    results.append(tweet)"
   ]
  },
  {
   "cell_type": "code",
   "execution_count": 394,
   "metadata": {
    "collapsed": false
   },
   "outputs": [
    {
     "data": {
      "text/plain": [
       "1505"
      ]
     },
     "execution_count": 394,
     "metadata": {},
     "output_type": "execute_result"
    }
   ],
   "source": [
    "results[0]._json['user']['friends_count']"
   ]
  },
  {
   "cell_type": "code",
   "execution_count": 367,
   "metadata": {
    "collapsed": true
   },
   "outputs": [
    {
     "name": "stdout",
     "output_type": "stream",
     "text": [
      "Status(contributors=None, truncated=False, text=u'SPY ETF/Apple Shares: A Tale of Two Wedges? $SPY, $AAPL  #Trading #investing #aapl #SP500 https://t.co/ggzsxwZGRy https://t.co/WcPuhek7NM', is_quote_status=False, in_reply_to_status_id=None, id=737295278907084801, favorite_count=0, _api=<tweepy.api.API object at 0x11cebb910>, author=User(follow_request_sent=False, has_extended_profile=False, profile_use_background_image=True, _json={u'follow_request_sent': False, u'has_extended_profile': False, u'profile_use_background_image': True, u'default_profile_image': False, u'id': 950517078, u'profile_background_image_url_https': u'https://abs.twimg.com/images/themes/theme9/bg.gif', u'verified': False, u'profile_text_color': u'666666', u'profile_image_url_https': u'https://pbs.twimg.com/profile_images/3203793810/b1e8bf3f4ac0c7c2da3ca5f8a90c605d_normal.jpeg', u'profile_sidebar_fill_color': u'252429', u'entities': {u'url': {u'urls': [{u'url': u'http://t.co/G5nJlgLoQ4', u'indices': [0, 22], u'expanded_url': u'http://www.financialiceberg.com/index.html', u'display_url': u'financialiceberg.com/index.html'}]}, u'description': {u'urls': []}}, u'followers_count': 1789, u'profile_sidebar_border_color': u'181A1E', u'id_str': u'950517078', u'profile_background_color': u'1A1B1F', u'listed_count': 115, u'is_translation_enabled': False, u'utc_offset': None, u'statuses_count': 45799, u'description': u'Jean-Pierre Desloges CFA  is a professional  investment consultant/ blogger/ trader with over 25 years of experience working on the buy and sell-side.', u'friends_count': 1505, u'location': u'Canada', u'profile_link_color': u'2FC2EF', u'profile_image_url': u'http://pbs.twimg.com/profile_images/3203793810/b1e8bf3f4ac0c7c2da3ca5f8a90c605d_normal.jpeg', u'following': False, u'geo_enabled': False, u'profile_background_image_url': u'http://abs.twimg.com/images/themes/theme9/bg.gif', u'screen_name': u'JPDesloges', u'lang': u'en', u'profile_background_tile': False, u'favourites_count': 500, u'name': u'Financial Iceberg', u'notifications': False, u'url': u'http://t.co/G5nJlgLoQ4', u'created_at': u'Thu Nov 15 21:49:32 +0000 2012', u'contributors_enabled': False, u'time_zone': None, u'protected': False, u'default_profile': False, u'is_translator': False}, time_zone=None, id=950517078, _api=<tweepy.api.API object at 0x11cebb910>, verified=False, profile_text_color=u'666666', profile_image_url_https=u'https://pbs.twimg.com/profile_images/3203793810/b1e8bf3f4ac0c7c2da3ca5f8a90c605d_normal.jpeg', profile_sidebar_fill_color=u'252429', is_translator=False, geo_enabled=False, entities={u'url': {u'urls': [{u'url': u'http://t.co/G5nJlgLoQ4', u'indices': [0, 22], u'expanded_url': u'http://www.financialiceberg.com/index.html', u'display_url': u'financialiceberg.com/index.html'}]}, u'description': {u'urls': []}}, followers_count=1789, protected=False, id_str=u'950517078', default_profile_image=False, listed_count=115, lang=u'en', utc_offset=None, statuses_count=45799, description=u'Jean-Pierre Desloges CFA  is a professional  investment consultant/ blogger/ trader with over 25 years of experience working on the buy and sell-side.', friends_count=1505, profile_link_color=u'2FC2EF', profile_image_url=u'http://pbs.twimg.com/profile_images/3203793810/b1e8bf3f4ac0c7c2da3ca5f8a90c605d_normal.jpeg', notifications=False, profile_background_image_url_https=u'https://abs.twimg.com/images/themes/theme9/bg.gif', profile_background_color=u'1A1B1F', profile_background_image_url=u'http://abs.twimg.com/images/themes/theme9/bg.gif', name=u'Financial Iceberg', is_translation_enabled=False, profile_background_tile=False, favourites_count=500, screen_name=u'JPDesloges', url=u'http://t.co/G5nJlgLoQ4', created_at=datetime.datetime(2012, 11, 15, 21, 49, 32), contributors_enabled=False, location=u'Canada', profile_sidebar_border_color=u'181A1E', default_profile=False, following=False), _json={u'contributors': None, u'truncated': False, u'text': u'SPY ETF/Apple Shares: A Tale of Two Wedges? $SPY, $AAPL  #Trading #investing #aapl #SP500 https://t.co/ggzsxwZGRy https://t.co/WcPuhek7NM', u'is_quote_status': False, u'in_reply_to_status_id': None, u'id': 737295278907084801, u'favorite_count': 0, u'entities': {u'symbols': [{u'indices': [44, 48], u'text': u'SPY'}, {u'indices': [50, 55], u'text': u'AAPL'}], u'user_mentions': [], u'hashtags': [{u'indices': [57, 65], u'text': u'Trading'}, {u'indices': [66, 76], u'text': u'investing'}, {u'indices': [77, 82], u'text': u'aapl'}, {u'indices': [83, 89], u'text': u'SP500'}], u'urls': [{u'url': u'https://t.co/ggzsxwZGRy', u'indices': [90, 113], u'expanded_url': u'http://www.financialiceberg.com/spyaaplw310516.html', u'display_url': u'financialiceberg.com/spyaaplw310516\\u2026'}], u'media': [{u'expanded_url': u'http://twitter.com/JPDesloges/status/737295278907084801/photo/1', u'display_url': u'pic.twitter.com/WcPuhek7NM', u'url': u'https://t.co/WcPuhek7NM', u'media_url_https': u'https://pbs.twimg.com/media/CjtYiozXIAErLXd.jpg', u'id_str': u'737280316096847873', u'sizes': {u'large': {u'h': 499, u'resize': u'fit', u'w': 998}, u'small': {u'h': 170, u'resize': u'fit', u'w': 340}, u'medium': {u'h': 300, u'resize': u'fit', u'w': 600}, u'thumb': {u'h': 150, u'resize': u'crop', u'w': 150}}, u'indices': [114, 137], u'type': u'photo', u'id': 737280316096847873, u'media_url': u'http://pbs.twimg.com/media/CjtYiozXIAErLXd.jpg'}]}, u'retweeted': False, u'coordinates': None, u'source': u'<a href=\"https://about.twitter.com/products/tweetdeck\" rel=\"nofollow\">TweetDeck</a>', u'in_reply_to_screen_name': None, u'in_reply_to_user_id': None, u'retweet_count': 0, u'id_str': u'737295278907084801', u'favorited': False, u'user': {u'follow_request_sent': False, u'has_extended_profile': False, u'profile_use_background_image': True, u'default_profile_image': False, u'id': 950517078, u'profile_background_image_url_https': u'https://abs.twimg.com/images/themes/theme9/bg.gif', u'verified': False, u'profile_text_color': u'666666', u'profile_image_url_https': u'https://pbs.twimg.com/profile_images/3203793810/b1e8bf3f4ac0c7c2da3ca5f8a90c605d_normal.jpeg', u'profile_sidebar_fill_color': u'252429', u'entities': {u'url': {u'urls': [{u'url': u'http://t.co/G5nJlgLoQ4', u'indices': [0, 22], u'expanded_url': u'http://www.financialiceberg.com/index.html', u'display_url': u'financialiceberg.com/index.html'}]}, u'description': {u'urls': []}}, u'followers_count': 1789, u'profile_sidebar_border_color': u'181A1E', u'id_str': u'950517078', u'profile_background_color': u'1A1B1F', u'listed_count': 115, u'is_translation_enabled': False, u'utc_offset': None, u'statuses_count': 45799, u'description': u'Jean-Pierre Desloges CFA  is a professional  investment consultant/ blogger/ trader with over 25 years of experience working on the buy and sell-side.', u'friends_count': 1505, u'location': u'Canada', u'profile_link_color': u'2FC2EF', u'profile_image_url': u'http://pbs.twimg.com/profile_images/3203793810/b1e8bf3f4ac0c7c2da3ca5f8a90c605d_normal.jpeg', u'following': False, u'geo_enabled': False, u'profile_background_image_url': u'http://abs.twimg.com/images/themes/theme9/bg.gif', u'screen_name': u'JPDesloges', u'lang': u'en', u'profile_background_tile': False, u'favourites_count': 500, u'name': u'Financial Iceberg', u'notifications': False, u'url': u'http://t.co/G5nJlgLoQ4', u'created_at': u'Thu Nov 15 21:49:32 +0000 2012', u'contributors_enabled': False, u'time_zone': None, u'protected': False, u'default_profile': False, u'is_translator': False}, u'geo': None, u'in_reply_to_user_id_str': None, u'possibly_sensitive': False, u'lang': u'en', u'created_at': u'Mon May 30 14:51:07 +0000 2016', u'in_reply_to_status_id_str': None, u'place': None, u'metadata': {u'iso_language_code': u'en', u'result_type': u'recent'}}, coordinates=None, entities={u'symbols': [{u'indices': [44, 48], u'text': u'SPY'}, {u'indices': [50, 55], u'text': u'AAPL'}], u'user_mentions': [], u'hashtags': [{u'indices': [57, 65], u'text': u'Trading'}, {u'indices': [66, 76], u'text': u'investing'}, {u'indices': [77, 82], u'text': u'aapl'}, {u'indices': [83, 89], u'text': u'SP500'}], u'urls': [{u'url': u'https://t.co/ggzsxwZGRy', u'indices': [90, 113], u'expanded_url': u'http://www.financialiceberg.com/spyaaplw310516.html', u'display_url': u'financialiceberg.com/spyaaplw310516\\u2026'}], u'media': [{u'expanded_url': u'http://twitter.com/JPDesloges/status/737295278907084801/photo/1', u'display_url': u'pic.twitter.com/WcPuhek7NM', u'url': u'https://t.co/WcPuhek7NM', u'media_url_https': u'https://pbs.twimg.com/media/CjtYiozXIAErLXd.jpg', u'id_str': u'737280316096847873', u'sizes': {u'large': {u'h': 499, u'resize': u'fit', u'w': 998}, u'small': {u'h': 170, u'resize': u'fit', u'w': 340}, u'medium': {u'h': 300, u'resize': u'fit', u'w': 600}, u'thumb': {u'h': 150, u'resize': u'crop', u'w': 150}}, u'indices': [114, 137], u'type': u'photo', u'id': 737280316096847873, u'media_url': u'http://pbs.twimg.com/media/CjtYiozXIAErLXd.jpg'}]}, in_reply_to_screen_name=None, id_str=u'737295278907084801', retweet_count=0, in_reply_to_user_id=None, favorited=False, source_url=u'https://about.twitter.com/products/tweetdeck', user=User(follow_request_sent=False, has_extended_profile=False, profile_use_background_image=True, _json={u'follow_request_sent': False, u'has_extended_profile': False, u'profile_use_background_image': True, u'default_profile_image': False, u'id': 950517078, u'profile_background_image_url_https': u'https://abs.twimg.com/images/themes/theme9/bg.gif', u'verified': False, u'profile_text_color': u'666666', u'profile_image_url_https': u'https://pbs.twimg.com/profile_images/3203793810/b1e8bf3f4ac0c7c2da3ca5f8a90c605d_normal.jpeg', u'profile_sidebar_fill_color': u'252429', u'entities': {u'url': {u'urls': [{u'url': u'http://t.co/G5nJlgLoQ4', u'indices': [0, 22], u'expanded_url': u'http://www.financialiceberg.com/index.html', u'display_url': u'financialiceberg.com/index.html'}]}, u'description': {u'urls': []}}, u'followers_count': 1789, u'profile_sidebar_border_color': u'181A1E', u'id_str': u'950517078', u'profile_background_color': u'1A1B1F', u'listed_count': 115, u'is_translation_enabled': False, u'utc_offset': None, u'statuses_count': 45799, u'description': u'Jean-Pierre Desloges CFA  is a professional  investment consultant/ blogger/ trader with over 25 years of experience working on the buy and sell-side.', u'friends_count': 1505, u'location': u'Canada', u'profile_link_color': u'2FC2EF', u'profile_image_url': u'http://pbs.twimg.com/profile_images/3203793810/b1e8bf3f4ac0c7c2da3ca5f8a90c605d_normal.jpeg', u'following': False, u'geo_enabled': False, u'profile_background_image_url': u'http://abs.twimg.com/images/themes/theme9/bg.gif', u'screen_name': u'JPDesloges', u'lang': u'en', u'profile_background_tile': False, u'favourites_count': 500, u'name': u'Financial Iceberg', u'notifications': False, u'url': u'http://t.co/G5nJlgLoQ4', u'created_at': u'Thu Nov 15 21:49:32 +0000 2012', u'contributors_enabled': False, u'time_zone': None, u'protected': False, u'default_profile': False, u'is_translator': False}, time_zone=None, id=950517078, _api=<tweepy.api.API object at 0x11cebb910>, verified=False, profile_text_color=u'666666', profile_image_url_https=u'https://pbs.twimg.com/profile_images/3203793810/b1e8bf3f4ac0c7c2da3ca5f8a90c605d_normal.jpeg', profile_sidebar_fill_color=u'252429', is_translator=False, geo_enabled=False, entities={u'url': {u'urls': [{u'url': u'http://t.co/G5nJlgLoQ4', u'indices': [0, 22], u'expanded_url': u'http://www.financialiceberg.com/index.html', u'display_url': u'financialiceberg.com/index.html'}]}, u'description': {u'urls': []}}, followers_count=1789, protected=False, id_str=u'950517078', default_profile_image=False, listed_count=115, lang=u'en', utc_offset=None, statuses_count=45799, description=u'Jean-Pierre Desloges CFA  is a professional  investment consultant/ blogger/ trader with over 25 years of experience working on the buy and sell-side.', friends_count=1505, profile_link_color=u'2FC2EF', profile_image_url=u'http://pbs.twimg.com/profile_images/3203793810/b1e8bf3f4ac0c7c2da3ca5f8a90c605d_normal.jpeg', notifications=False, profile_background_image_url_https=u'https://abs.twimg.com/images/themes/theme9/bg.gif', profile_background_color=u'1A1B1F', profile_background_image_url=u'http://abs.twimg.com/images/themes/theme9/bg.gif', name=u'Financial Iceberg', is_translation_enabled=False, profile_background_tile=False, favourites_count=500, screen_name=u'JPDesloges', url=u'http://t.co/G5nJlgLoQ4', created_at=datetime.datetime(2012, 11, 15, 21, 49, 32), contributors_enabled=False, location=u'Canada', profile_sidebar_border_color=u'181A1E', default_profile=False, following=False), geo=None, in_reply_to_user_id_str=None, possibly_sensitive=False, lang=u'en', created_at=datetime.datetime(2016, 5, 30, 14, 51, 7), in_reply_to_status_id_str=None, place=None, source=u'TweetDeck', retweeted=False, metadata={u'iso_language_code': u'en', u'result_type': u'recent'})\n"
     ]
    }
   ],
   "source": [
    "print results[0]"
   ]
  },
  {
   "cell_type": "code",
   "execution_count": 405,
   "metadata": {
    "collapsed": false
   },
   "outputs": [
    {
     "data": {
      "text/plain": [
       "{u'contributors': None,\n",
       " u'coordinates': None,\n",
       " u'created_at': u'Mon May 30 14:51:07 +0000 2016',\n",
       " u'entities': {u'hashtags': [{u'indices': [57, 65], u'text': u'Trading'},\n",
       "   {u'indices': [66, 76], u'text': u'investing'},\n",
       "   {u'indices': [77, 82], u'text': u'aapl'},\n",
       "   {u'indices': [83, 89], u'text': u'SP500'}],\n",
       "  u'media': [{u'display_url': u'pic.twitter.com/WcPuhek7NM',\n",
       "    u'expanded_url': u'http://twitter.com/JPDesloges/status/737295278907084801/photo/1',\n",
       "    u'id': 737280316096847873,\n",
       "    u'id_str': u'737280316096847873',\n",
       "    u'indices': [114, 137],\n",
       "    u'media_url': u'http://pbs.twimg.com/media/CjtYiozXIAErLXd.jpg',\n",
       "    u'media_url_https': u'https://pbs.twimg.com/media/CjtYiozXIAErLXd.jpg',\n",
       "    u'sizes': {u'large': {u'h': 499, u'resize': u'fit', u'w': 998},\n",
       "     u'medium': {u'h': 300, u'resize': u'fit', u'w': 600},\n",
       "     u'small': {u'h': 170, u'resize': u'fit', u'w': 340},\n",
       "     u'thumb': {u'h': 150, u'resize': u'crop', u'w': 150}},\n",
       "    u'type': u'photo',\n",
       "    u'url': u'https://t.co/WcPuhek7NM'}],\n",
       "  u'symbols': [{u'indices': [44, 48], u'text': u'SPY'},\n",
       "   {u'indices': [50, 55], u'text': u'AAPL'}],\n",
       "  u'urls': [{u'display_url': u'financialiceberg.com/spyaaplw310516\\u2026',\n",
       "    u'expanded_url': u'http://www.financialiceberg.com/spyaaplw310516.html',\n",
       "    u'indices': [90, 113],\n",
       "    u'url': u'https://t.co/ggzsxwZGRy'}],\n",
       "  u'user_mentions': []},\n",
       " u'favorite_count': 0,\n",
       " u'favorited': False,\n",
       " u'geo': None,\n",
       " u'id': 737295278907084801,\n",
       " u'id_str': u'737295278907084801',\n",
       " u'in_reply_to_screen_name': None,\n",
       " u'in_reply_to_status_id': None,\n",
       " u'in_reply_to_status_id_str': None,\n",
       " u'in_reply_to_user_id': None,\n",
       " u'in_reply_to_user_id_str': None,\n",
       " u'is_quote_status': False,\n",
       " u'lang': u'en',\n",
       " u'metadata': {u'iso_language_code': u'en', u'result_type': u'recent'},\n",
       " u'place': None,\n",
       " u'possibly_sensitive': False,\n",
       " u'retweet_count': 0,\n",
       " u'retweeted': False,\n",
       " u'source': u'<a href=\"https://about.twitter.com/products/tweetdeck\" rel=\"nofollow\">TweetDeck</a>',\n",
       " u'text': u'SPY ETF/Apple Shares: A Tale of Two Wedges? $SPY, $AAPL  #Trading #investing #aapl #SP500 https://t.co/ggzsxwZGRy https://t.co/WcPuhek7NM',\n",
       " u'truncated': False,\n",
       " u'user': {u'contributors_enabled': False,\n",
       "  u'created_at': u'Thu Nov 15 21:49:32 +0000 2012',\n",
       "  u'default_profile': False,\n",
       "  u'default_profile_image': False,\n",
       "  u'description': u'Jean-Pierre Desloges CFA  is a professional  investment consultant/ blogger/ trader with over 25 years of experience working on the buy and sell-side.',\n",
       "  u'entities': {u'description': {u'urls': []},\n",
       "   u'url': {u'urls': [{u'display_url': u'financialiceberg.com/index.html',\n",
       "      u'expanded_url': u'http://www.financialiceberg.com/index.html',\n",
       "      u'indices': [0, 22],\n",
       "      u'url': u'http://t.co/G5nJlgLoQ4'}]}},\n",
       "  u'favourites_count': 500,\n",
       "  u'follow_request_sent': False,\n",
       "  u'followers_count': 1789,\n",
       "  u'following': False,\n",
       "  u'friends_count': 1505,\n",
       "  u'geo_enabled': False,\n",
       "  u'has_extended_profile': False,\n",
       "  u'id': 950517078,\n",
       "  u'id_str': u'950517078',\n",
       "  u'is_translation_enabled': False,\n",
       "  u'is_translator': False,\n",
       "  u'lang': u'en',\n",
       "  u'listed_count': 115,\n",
       "  u'location': u'Canada',\n",
       "  u'name': u'Financial Iceberg',\n",
       "  u'notifications': False,\n",
       "  u'profile_background_color': u'1A1B1F',\n",
       "  u'profile_background_image_url': u'http://abs.twimg.com/images/themes/theme9/bg.gif',\n",
       "  u'profile_background_image_url_https': u'https://abs.twimg.com/images/themes/theme9/bg.gif',\n",
       "  u'profile_background_tile': False,\n",
       "  u'profile_image_url': u'http://pbs.twimg.com/profile_images/3203793810/b1e8bf3f4ac0c7c2da3ca5f8a90c605d_normal.jpeg',\n",
       "  u'profile_image_url_https': u'https://pbs.twimg.com/profile_images/3203793810/b1e8bf3f4ac0c7c2da3ca5f8a90c605d_normal.jpeg',\n",
       "  u'profile_link_color': u'2FC2EF',\n",
       "  u'profile_sidebar_border_color': u'181A1E',\n",
       "  u'profile_sidebar_fill_color': u'252429',\n",
       "  u'profile_text_color': u'666666',\n",
       "  u'profile_use_background_image': True,\n",
       "  u'protected': False,\n",
       "  u'screen_name': u'JPDesloges',\n",
       "  u'statuses_count': 45799,\n",
       "  u'time_zone': None,\n",
       "  u'url': u'http://t.co/G5nJlgLoQ4',\n",
       "  u'utc_offset': None,\n",
       "  u'verified': False}}"
      ]
     },
     "execution_count": 405,
     "metadata": {},
     "output_type": "execute_result"
    }
   ],
   "source": [
    "results[0]._json"
   ]
  },
  {
   "cell_type": "markdown",
   "metadata": {},
   "source": [
    "#### Import tweets into Pandas"
   ]
  },
  {
   "cell_type": "code",
   "execution_count": null,
   "metadata": {
    "collapsed": true
   },
   "outputs": [],
   "source": []
  },
  {
   "cell_type": "code",
   "execution_count": null,
   "metadata": {
    "collapsed": true
   },
   "outputs": [],
   "source": [
    "import pandas as pd"
   ]
  },
  {
   "cell_type": "code",
   "execution_count": null,
   "metadata": {
    "collapsed": false
   },
   "outputs": [],
   "source": [
    "def structure_results(results):\n",
    "    id_list=[tweet.id for tweet in results]\n",
    "    data=pd.DataFrame(id_list,columns=['id'])\n",
    "    \n",
    "    data[\"text\"]= [tweet.text.encode('utf-8') for tweet in results]\n",
    "    data[\"datetime\"]=[tweet.created_at for tweet in results]\n",
    "    data[\"Location\"]=[tweet.place for tweet in results]\n",
    "    \n",
    "    return data"
   ]
  },
  {
   "cell_type": "code",
   "execution_count": null,
   "metadata": {
    "collapsed": false
   },
   "outputs": [],
   "source": [
    "data=structure_results(results)\n",
    "data.head()"
   ]
  },
  {
   "cell_type": "markdown",
   "metadata": {},
   "source": [
    "#### Import Tweets into MongoDB"
   ]
  },
  {
   "cell_type": "code",
   "execution_count": 327,
   "metadata": {
    "collapsed": false
   },
   "outputs": [],
   "source": [
    "# conda install pymongo\n",
    "import json\n",
    "from pymongo import MongoClient\n",
    "\n",
    "\n",
    "client = MongoClient()\n",
    "db = client.example\n",
    "tweets = db.tweets"
   ]
  },
  {
   "cell_type": "code",
   "execution_count": 343,
   "metadata": {
    "collapsed": false
   },
   "outputs": [],
   "source": [
    "for tweet in results:\n",
    "    data={}\n",
    "    data['q_string']='query string'\n",
    "    data['tweet']=tweet.text.encode('utf-8') \n",
    "    data['datetime']=tweet.created_at\n",
    "    data['is_favorite']=tweet._json['favorited']\n",
    "    data['favorite_count']=tweet._json['favorite_count']\n",
    "    data['lang']=tweet._json['lang']\n",
    "    data['is_retweet']=tweet._json['retweeted']\n",
    "    data['retweet_count']=tweet._json['retweet_count']\n",
    "    tweets.insert_one(data)"
   ]
  },
  {
   "cell_type": "code",
   "execution_count": 341,
   "metadata": {
    "collapsed": false
   },
   "outputs": [
    {
     "ename": "KeyboardInterrupt",
     "evalue": "",
     "output_type": "error",
     "traceback": [
      "\u001b[0;31m---------------------------------------------------------------------------\u001b[0m",
      "\u001b[0;31mKeyboardInterrupt\u001b[0m                         Traceback (most recent call last)",
      "\u001b[0;32m<ipython-input-341-b99c014f997e>\u001b[0m in \u001b[0;36m<module>\u001b[0;34m()\u001b[0m\n\u001b[0;32m----> 1\u001b[0;31m \u001b[0mtweets\u001b[0m\u001b[0;34m.\u001b[0m\u001b[0mfind_one\u001b[0m\u001b[0;34m(\u001b[0m\u001b[0;34m)\u001b[0m\u001b[0;34m\u001b[0m\u001b[0m\n\u001b[0m",
      "\u001b[0;32m/Users/ash/anaconda/lib/python2.7/site-packages/pymongo/collection.pyc\u001b[0m in \u001b[0;36mfind_one\u001b[0;34m(self, filter, *args, **kwargs)\u001b[0m\n\u001b[1;32m    796\u001b[0m                            *args, **kwargs).max_time_ms(max_time_ms)\n\u001b[1;32m    797\u001b[0m \u001b[0;34m\u001b[0m\u001b[0m\n\u001b[0;32m--> 798\u001b[0;31m         \u001b[0;32mfor\u001b[0m \u001b[0mresult\u001b[0m \u001b[0;32min\u001b[0m \u001b[0mcursor\u001b[0m\u001b[0;34m.\u001b[0m\u001b[0mlimit\u001b[0m\u001b[0;34m(\u001b[0m\u001b[0;34m-\u001b[0m\u001b[0;36m1\u001b[0m\u001b[0;34m)\u001b[0m\u001b[0;34m:\u001b[0m\u001b[0;34m\u001b[0m\u001b[0m\n\u001b[0m\u001b[1;32m    799\u001b[0m             \u001b[0;32mreturn\u001b[0m \u001b[0mresult\u001b[0m\u001b[0;34m\u001b[0m\u001b[0m\n\u001b[1;32m    800\u001b[0m         \u001b[0;32mreturn\u001b[0m \u001b[0mNone\u001b[0m\u001b[0;34m\u001b[0m\u001b[0m\n",
      "\u001b[0;32m/Users/ash/anaconda/lib/python2.7/site-packages/pymongo/cursor.pyc\u001b[0m in \u001b[0;36mnext\u001b[0;34m(self)\u001b[0m\n\u001b[1;32m    975\u001b[0m             \u001b[0;32mraise\u001b[0m \u001b[0mStopIteration\u001b[0m\u001b[0;34m\u001b[0m\u001b[0m\n\u001b[1;32m    976\u001b[0m         \u001b[0m_db\u001b[0m \u001b[0;34m=\u001b[0m \u001b[0mself\u001b[0m\u001b[0;34m.\u001b[0m\u001b[0m__collection\u001b[0m\u001b[0;34m.\u001b[0m\u001b[0mdatabase\u001b[0m\u001b[0;34m\u001b[0m\u001b[0m\n\u001b[0;32m--> 977\u001b[0;31m         \u001b[0;32mif\u001b[0m \u001b[0mlen\u001b[0m\u001b[0;34m(\u001b[0m\u001b[0mself\u001b[0m\u001b[0;34m.\u001b[0m\u001b[0m__data\u001b[0m\u001b[0;34m)\u001b[0m \u001b[0;32mor\u001b[0m \u001b[0mself\u001b[0m\u001b[0;34m.\u001b[0m\u001b[0m_refresh\u001b[0m\u001b[0;34m(\u001b[0m\u001b[0;34m)\u001b[0m\u001b[0;34m:\u001b[0m\u001b[0;34m\u001b[0m\u001b[0m\n\u001b[0m\u001b[1;32m    978\u001b[0m             \u001b[0;32mif\u001b[0m \u001b[0mself\u001b[0m\u001b[0;34m.\u001b[0m\u001b[0m__manipulate\u001b[0m\u001b[0;34m:\u001b[0m\u001b[0;34m\u001b[0m\u001b[0m\n\u001b[1;32m    979\u001b[0m                 return _db._fix_outgoing(self.__data.popleft(),\n",
      "\u001b[0;32m/Users/ash/anaconda/lib/python2.7/site-packages/pymongo/cursor.pyc\u001b[0m in \u001b[0;36m_refresh\u001b[0;34m(self)\u001b[0m\n\u001b[1;32m    900\u001b[0m                                        \u001b[0mself\u001b[0m\u001b[0;34m.\u001b[0m\u001b[0m__projection\u001b[0m\u001b[0;34m,\u001b[0m\u001b[0;34m\u001b[0m\u001b[0m\n\u001b[1;32m    901\u001b[0m                                        \u001b[0mself\u001b[0m\u001b[0;34m.\u001b[0m\u001b[0m__codec_options\u001b[0m\u001b[0;34m,\u001b[0m\u001b[0;34m\u001b[0m\u001b[0m\n\u001b[0;32m--> 902\u001b[0;31m                                        self.__read_preference))\n\u001b[0m\u001b[1;32m    903\u001b[0m             \u001b[0;32mif\u001b[0m \u001b[0;32mnot\u001b[0m \u001b[0mself\u001b[0m\u001b[0;34m.\u001b[0m\u001b[0m__id\u001b[0m\u001b[0;34m:\u001b[0m\u001b[0;34m\u001b[0m\u001b[0m\n\u001b[1;32m    904\u001b[0m                 \u001b[0mself\u001b[0m\u001b[0;34m.\u001b[0m\u001b[0m__killed\u001b[0m \u001b[0;34m=\u001b[0m \u001b[0mTrue\u001b[0m\u001b[0;34m\u001b[0m\u001b[0m\n",
      "\u001b[0;32m/Users/ash/anaconda/lib/python2.7/site-packages/pymongo/cursor.pyc\u001b[0m in \u001b[0;36m__send_message\u001b[0;34m(self, operation)\u001b[0m\n\u001b[1;32m    811\u001b[0m             \u001b[0;32mtry\u001b[0m\u001b[0;34m:\u001b[0m\u001b[0;34m\u001b[0m\u001b[0m\n\u001b[1;32m    812\u001b[0m                 response = client._send_message_with_response(operation,\n\u001b[0;32m--> 813\u001b[0;31m                                                               **kwargs)\n\u001b[0m\u001b[1;32m    814\u001b[0m                 \u001b[0mself\u001b[0m\u001b[0;34m.\u001b[0m\u001b[0m__address\u001b[0m \u001b[0;34m=\u001b[0m \u001b[0mresponse\u001b[0m\u001b[0;34m.\u001b[0m\u001b[0maddress\u001b[0m\u001b[0;34m\u001b[0m\u001b[0m\n\u001b[1;32m    815\u001b[0m                 \u001b[0;32mif\u001b[0m \u001b[0mself\u001b[0m\u001b[0;34m.\u001b[0m\u001b[0m__exhaust\u001b[0m\u001b[0;34m:\u001b[0m\u001b[0;34m\u001b[0m\u001b[0m\n",
      "\u001b[0;32m/Users/ash/anaconda/lib/python2.7/site-packages/pymongo/mongo_client.pyc\u001b[0m in \u001b[0;36m_send_message_with_response\u001b[0;34m(self, operation, read_preference, exhaust, address)\u001b[0m\n\u001b[1;32m    726\u001b[0m         \u001b[0;32melse\u001b[0m\u001b[0;34m:\u001b[0m\u001b[0;34m\u001b[0m\u001b[0m\n\u001b[1;32m    727\u001b[0m             \u001b[0mselector\u001b[0m \u001b[0;34m=\u001b[0m \u001b[0mread_preference\u001b[0m \u001b[0;32mor\u001b[0m \u001b[0mwritable_server_selector\u001b[0m\u001b[0;34m\u001b[0m\u001b[0m\n\u001b[0;32m--> 728\u001b[0;31m             \u001b[0mserver\u001b[0m \u001b[0;34m=\u001b[0m \u001b[0mtopology\u001b[0m\u001b[0;34m.\u001b[0m\u001b[0mselect_server\u001b[0m\u001b[0;34m(\u001b[0m\u001b[0mselector\u001b[0m\u001b[0;34m)\u001b[0m\u001b[0;34m\u001b[0m\u001b[0m\n\u001b[0m\u001b[1;32m    729\u001b[0m \u001b[0;34m\u001b[0m\u001b[0m\n\u001b[1;32m    730\u001b[0m         \u001b[0;31m# A _Query's slaveOk bit is already set for queries with non-primary\u001b[0m\u001b[0;34m\u001b[0m\u001b[0;34m\u001b[0m\u001b[0m\n",
      "\u001b[0;32m/Users/ash/anaconda/lib/python2.7/site-packages/pymongo/topology.pyc\u001b[0m in \u001b[0;36mselect_server\u001b[0;34m(self, selector, server_selection_timeout, address)\u001b[0m\n\u001b[1;32m    119\u001b[0m         return random.choice(self.select_servers(selector,\n\u001b[1;32m    120\u001b[0m                                                  \u001b[0mserver_selection_timeout\u001b[0m\u001b[0;34m,\u001b[0m\u001b[0;34m\u001b[0m\u001b[0m\n\u001b[0;32m--> 121\u001b[0;31m                                                  address))\n\u001b[0m\u001b[1;32m    122\u001b[0m \u001b[0;34m\u001b[0m\u001b[0m\n\u001b[1;32m    123\u001b[0m     def select_server_by_address(self, address,\n",
      "\u001b[0;32m/Users/ash/anaconda/lib/python2.7/site-packages/pymongo/topology.pyc\u001b[0m in \u001b[0;36mselect_servers\u001b[0;34m(self, selector, server_selection_timeout, address)\u001b[0m\n\u001b[1;32m    104\u001b[0m                 \u001b[0;31m# came after our most recent _apply_selector call, since we've\u001b[0m\u001b[0;34m\u001b[0m\u001b[0;34m\u001b[0m\u001b[0m\n\u001b[1;32m    105\u001b[0m                 \u001b[0;31m# held the lock until now.\u001b[0m\u001b[0;34m\u001b[0m\u001b[0;34m\u001b[0m\u001b[0m\n\u001b[0;32m--> 106\u001b[0;31m                 \u001b[0mself\u001b[0m\u001b[0;34m.\u001b[0m\u001b[0m_condition\u001b[0m\u001b[0;34m.\u001b[0m\u001b[0mwait\u001b[0m\u001b[0;34m(\u001b[0m\u001b[0mcommon\u001b[0m\u001b[0;34m.\u001b[0m\u001b[0mMIN_HEARTBEAT_INTERVAL\u001b[0m\u001b[0;34m)\u001b[0m\u001b[0;34m\u001b[0m\u001b[0m\n\u001b[0m\u001b[1;32m    107\u001b[0m                 \u001b[0mself\u001b[0m\u001b[0;34m.\u001b[0m\u001b[0m_description\u001b[0m\u001b[0;34m.\u001b[0m\u001b[0mcheck_compatible\u001b[0m\u001b[0;34m(\u001b[0m\u001b[0;34m)\u001b[0m\u001b[0;34m\u001b[0m\u001b[0m\n\u001b[1;32m    108\u001b[0m                 \u001b[0mnow\u001b[0m \u001b[0;34m=\u001b[0m \u001b[0m_time\u001b[0m\u001b[0;34m(\u001b[0m\u001b[0;34m)\u001b[0m\u001b[0;34m\u001b[0m\u001b[0m\n",
      "\u001b[0;32m/Users/ash/anaconda/lib/python2.7/threading.pyc\u001b[0m in \u001b[0;36mwait\u001b[0;34m(self, timeout)\u001b[0m\n\u001b[1;32m    357\u001b[0m                         \u001b[0;32mbreak\u001b[0m\u001b[0;34m\u001b[0m\u001b[0m\n\u001b[1;32m    358\u001b[0m                     \u001b[0mdelay\u001b[0m \u001b[0;34m=\u001b[0m \u001b[0mmin\u001b[0m\u001b[0;34m(\u001b[0m\u001b[0mdelay\u001b[0m \u001b[0;34m*\u001b[0m \u001b[0;36m2\u001b[0m\u001b[0;34m,\u001b[0m \u001b[0mremaining\u001b[0m\u001b[0;34m,\u001b[0m \u001b[0;36m.05\u001b[0m\u001b[0;34m)\u001b[0m\u001b[0;34m\u001b[0m\u001b[0m\n\u001b[0;32m--> 359\u001b[0;31m                     \u001b[0m_sleep\u001b[0m\u001b[0;34m(\u001b[0m\u001b[0mdelay\u001b[0m\u001b[0;34m)\u001b[0m\u001b[0;34m\u001b[0m\u001b[0m\n\u001b[0m\u001b[1;32m    360\u001b[0m                 \u001b[0;32mif\u001b[0m \u001b[0;32mnot\u001b[0m \u001b[0mgotit\u001b[0m\u001b[0;34m:\u001b[0m\u001b[0;34m\u001b[0m\u001b[0m\n\u001b[1;32m    361\u001b[0m                     \u001b[0;32mif\u001b[0m \u001b[0m__debug__\u001b[0m\u001b[0;34m:\u001b[0m\u001b[0;34m\u001b[0m\u001b[0m\n",
      "\u001b[0;31mKeyboardInterrupt\u001b[0m: "
     ]
    }
   ],
   "source": [
    "tweets.find_one()"
   ]
  },
  {
   "cell_type": "code",
   "execution_count": null,
   "metadata": {
    "collapsed": true
   },
   "outputs": [],
   "source": []
  },
  {
   "cell_type": "code",
   "execution_count": null,
   "metadata": {
    "collapsed": true
   },
   "outputs": [],
   "source": []
  },
  {
   "cell_type": "code",
   "execution_count": null,
   "metadata": {
    "collapsed": true
   },
   "outputs": [],
   "source": []
  },
  {
   "cell_type": "code",
   "execution_count": null,
   "metadata": {
    "collapsed": true
   },
   "outputs": [],
   "source": []
  },
  {
   "cell_type": "code",
   "execution_count": null,
   "metadata": {
    "collapsed": true
   },
   "outputs": [],
   "source": []
  },
  {
   "cell_type": "code",
   "execution_count": null,
   "metadata": {
    "collapsed": true
   },
   "outputs": [],
   "source": []
  },
  {
   "cell_type": "code",
   "execution_count": null,
   "metadata": {
    "collapsed": true
   },
   "outputs": [],
   "source": []
  },
  {
   "cell_type": "code",
   "execution_count": null,
   "metadata": {
    "collapsed": true
   },
   "outputs": [],
   "source": []
  },
  {
   "cell_type": "code",
   "execution_count": null,
   "metadata": {
    "collapsed": true
   },
   "outputs": [],
   "source": []
  },
  {
   "cell_type": "code",
   "execution_count": 4,
   "metadata": {
    "collapsed": false
   },
   "outputs": [],
   "source": [
    "import sourceData"
   ]
  },
  {
   "cell_type": "code",
   "execution_count": 5,
   "metadata": {
    "collapsed": true
   },
   "outputs": [],
   "source": [
    "api=sourceData.connect_twitter()"
   ]
  },
  {
   "cell_type": "code",
   "execution_count": 118,
   "metadata": {
    "collapsed": false
   },
   "outputs": [],
   "source": [
    "df = pd.DataFrame()"
   ]
  },
  {
   "cell_type": "code",
   "execution_count": 119,
   "metadata": {
    "collapsed": true
   },
   "outputs": [],
   "source": [
    "df=sourceData.get_tweets(api,'$aapl,#aapl,apple,aapl')"
   ]
  },
  {
   "cell_type": "code",
   "execution_count": 120,
   "metadata": {
    "collapsed": false
   },
   "outputs": [
    {
     "data": {
      "text/plain": [
       "\"Apple's outperform rating reiterated at RBC Capital. $120.00 PT. https://t.co/qAGCm2AW3p $AAPL #AAPL\""
      ]
     },
     "execution_count": 120,
     "metadata": {},
     "output_type": "execute_result"
    }
   ],
   "source": [
    "df.text[1]"
   ]
  },
  {
   "cell_type": "code",
   "execution_count": 18,
   "metadata": {
    "collapsed": false
   },
   "outputs": [
    {
     "data": {
      "text/plain": [
       "'RT @RatingsNetwork: Apple given $120.00 PT by Morgan Stanley. buy rating. https://t.co/19JtEb809i $AAPL #AAPL'"
      ]
     },
     "execution_count": 18,
     "metadata": {},
     "output_type": "execute_result"
    }
   ],
   "source": [
    "df.text[5]"
   ]
  },
  {
   "cell_type": "code",
   "execution_count": 26,
   "metadata": {
    "collapsed": false
   },
   "outputs": [
    {
     "data": {
      "text/plain": [
       "'$AAPL - Apple Inc. #AAPL Stake Increased by BB&amp;T Securities LLC https://t.co/FtK2eciszL'"
      ]
     },
     "execution_count": 26,
     "metadata": {},
     "output_type": "execute_result"
    }
   ],
   "source": [
    "df.text[35]"
   ]
  },
  {
   "cell_type": "code",
   "execution_count": 112,
   "metadata": {
    "collapsed": true
   },
   "outputs": [],
   "source": [
    "data=df\n",
    "import unicodedata as uc"
   ]
  },
  {
   "cell_type": "code",
   "execution_count": 38,
   "metadata": {
    "collapsed": true
   },
   "outputs": [],
   "source": [
    "string='this ˆøis ª•∆˙ funky string'\n",
    "string1='normal string'"
   ]
  },
  {
   "cell_type": "code",
   "execution_count": 43,
   "metadata": {
    "collapsed": false
   },
   "outputs": [
    {
     "data": {
      "text/plain": [
       "u'this \\u02c6\\xf8is \\xaa\\u2022\\u2206\\u02d9 funky string'"
      ]
     },
     "execution_count": 43,
     "metadata": {},
     "output_type": "execute_result"
    }
   ],
   "source": [
    "unicode(string,'utf-8')"
   ]
  },
  {
   "cell_type": "code",
   "execution_count": 58,
   "metadata": {
    "collapsed": false
   },
   "outputs": [
    {
     "data": {
      "text/plain": [
       "u'Apple Inc. Reiterated Rating by Canaccord Genuity (Ranked 58th) to Buy with 130 PT $AAPL #AAPL https://t.co/DWfFaFCwq5'"
      ]
     },
     "execution_count": 58,
     "metadata": {},
     "output_type": "execute_result"
    }
   ],
   "source": [
    "uc.normalize('NFKD',unicode(data.text[60],'utf-8'))"
   ]
  },
  {
   "cell_type": "code",
   "execution_count": 113,
   "metadata": {
    "collapsed": true
   },
   "outputs": [
    {
     "data": {
      "text/plain": [
       "0      inc reiterated rating by rbc capital mkts ran...\n",
       "1      bulls still pushing their luck as above daily...\n",
       "2      bulls pushing their luck as above the daily r...\n",
       "3     rt ratingsnetwork  given pt by morgan stanley ...\n",
       "4     rt ratingsnetwork  given pt by morgan stanley ...\n",
       "5     rt ratingsnetwork  given pt by morgan stanley ...\n",
       "6      inc set price target by morgan stanley ranked...\n",
       "7      given pt by morgan stanley buy rating https c...\n",
       "8      given pt by morgan stanley buy rating https c...\n",
       "9       short term elliott wave analysis https co mm...\n",
       "10     buy rating reiterated at bmo capital markets ...\n",
       "11     inc reiterated rating by bmo capital markets ...\n",
       "12     inc upgrade by pacific crest securities ranke...\n",
       "13     buy rating reiterated at bmo capital markets ...\n",
       "14       inc is below its upper bollinger band of ht...\n",
       "15       inc is at below its chandelier exit of http...\n",
       "16    rt ratingsnetwork  buy rating reiterated at br...\n",
       "17    rt ratingsnetwork  buy rating reiterated at br...\n",
       "18    rt ratingsnetwork  buy rating reiterated at br...\n",
       "19     buy rating reiterated at brean capital https ...\n",
       "20     inc reiterated rating by brean capital ranked...\n",
       "21     buy rating reiterated at brean capital https ...\n",
       "22     testing the resistance trendline from daily u...\n",
       "23     testing the resistance trendline from daily u...\n",
       "24                                                     \n",
       "25      short term elliott wave analysis https co ew...\n",
       "26       inc is at below its month high https co luv...\n",
       "27    bruce greenwald on  inc    #brucegreenwald #co...\n",
       "28     near testing the resistance trendline from da...\n",
       "29     near testing the resistance trendline from da...\n",
       "                            ...                        \n",
       "61       inc ma is just below its ma https co luvbl ...\n",
       "62       inc is at with month rsi of https co luvbl ...\n",
       "63    rt ratingsnetwork  buy rating reiterated at ci...\n",
       "64     inc reiterated rating by citigroup ranked th ...\n",
       "65     inc reiterated rating by morgan stanley ranke...\n",
       "66     outperform rating reiterated at morgan stanle...\n",
       "67     buy rating reiterated at citigroup inc https ...\n",
       "68     outperform rating reiterated at morgan stanle...\n",
       "69     buy rating reiterated at citigroup inc https ...\n",
       "70     inc reiterated rating by sanford bernstein ra...\n",
       "71     inc reiterated rating by drexel hamilton rank...\n",
       "72    rt jpdesloges  into daily uptrend channel on  ...\n",
       "73    rt consumerfeed  given pt by goldman sachs buy...\n",
       "74    rt jpdesloges  into daily uptrend channel on  ...\n",
       "75     into daily uptrend channel on  shares  #tradi...\n",
       "76    rt ratingsnetwork  given pt by goldman sachs b...\n",
       "77     given pt by goldman sachs buy rating https co...\n",
       "78    rt consumerfeed  given pt by goldman sachs buy...\n",
       "79     inc set price target by goldman sachs ranked ...\n",
       "80     given pt by goldman sachs buy rating https co...\n",
       "81     buy rating reiterated at credit agricole pt h...\n",
       "82    rt ratingsnetwork  buy rating reiterated at cr...\n",
       "83     inc reiterated rating by credit agricole rank...\n",
       "84     buy rating reiterated at credit agricole pt h...\n",
       "85       inc is above its lower bollinger band of ht...\n",
       "86          inc ma is below its ma https co luvbl hukh \n",
       "87     finally back above the daily flash crash resi...\n",
       "88    tradingview   hit bottom bulls active expectin...\n",
       "89       hit bottom bulls active expecting upside  h...\n",
       "90            hit bottom bulls act  https co awdtns gvk\n",
       "Name: text, dtype: object"
      ]
     },
     "execution_count": 113,
     "metadata": {},
     "output_type": "execute_result"
    }
   ],
   "source": [
    "data.text.map(lambda val: uc.normalize('NFD',unicode(val,'utf-8')))"
   ]
  },
  {
   "cell_type": "code",
   "execution_count": 151,
   "metadata": {
    "collapsed": true
   },
   "outputs": [],
   "source": [
    "temp=df.text"
   ]
  },
  {
   "cell_type": "code",
   "execution_count": 152,
   "metadata": {
    "collapsed": false
   },
   "outputs": [
    {
     "data": {
      "text/plain": [
       "0     RT @RatingsNetwork: Apple's outperform rating ...\n",
       "1     Apple's outperform rating reiterated at RBC Ca...\n",
       "2     Apple Inc. Reiterated Rating by RBC Capital Mk...\n",
       "3     Apple: Bulls still pushing their luck as above...\n",
       "4     Apple: Bulls pushing their luck as above the D...\n",
       "5     RT @RatingsNetwork: Apple given $120.00 PT by ...\n",
       "6     RT @RatingsNetwork: Apple given $120.00 PT by ...\n",
       "7     RT @RatingsNetwork: Apple given $120.00 PT by ...\n",
       "8     Apple Inc. Set Price Target by Morgan Stanley ...\n",
       "9     Apple given $120.00 PT by Morgan Stanley. buy ...\n",
       "10    Apple $AAPL Short-term Elliott Wave Analysis 5...\n",
       "11    Apple's buy rating reiterated at BMO Capital M...\n",
       "12    Apple Inc. Reiterated Rating by BMO Capital Ma...\n",
       "13    Apple Inc. Upgrade by Pacific Crest Securities...\n",
       "14    $AAPL (Apple Inc) is below its upper Bollinger...\n",
       "15    $AAPL (Apple Inc) is at $97.90, below its Chan...\n",
       "16    RT @RatingsNetwork: Apple's buy rating reitera...\n",
       "17    RT @RatingsNetwork: Apple's buy rating reitera...\n",
       "18    RT @RatingsNetwork: Apple's buy rating reitera...\n",
       "19    Apple's buy rating reiterated at Brean Capital...\n",
       "20    Apple Inc. Reiterated Rating by Brean Capital ...\n",
       "21    Apple: Testing the Resistance Trendline from a...\n",
       "22    Apple: Testing the Resistance Trendline from a...\n",
       "23    Я был прав купив акции $AAPL на дне по $90-$92...\n",
       "24    Apple $AAPL Short-term Elliott Wave Analysis 5...\n",
       "25    $AAPL (Apple Inc) is at 13.45% below its 3-mon...\n",
       "26    Bruce Greenwald On Apple Inc. #AAPL $AAPL #App...\n",
       "27    Apple: Near Testing the Resistance Trendline f...\n",
       "28    Apple: Near Testing the Resistance Trendline f...\n",
       "29    Apple Inc. Set Price Target by Nomura (Ranked ...\n",
       "                            ...                        \n",
       "52    $AAPL (Apple Inc) is at $94.56, 19.82% below i...\n",
       "53    $AAPL (Apple Inc) has a 1-month RSI of 23 http...\n",
       "54    Apple: Near Resistance trendline from a Daily ...\n",
       "55    Apple Inc. Reiterated Rating by Credit Suisse ...\n",
       "56    Apple's average rating reiterated at Credit Su...\n",
       "57    Apple Inc. Reiterated Rating by Canaccord Genu...\n",
       "58    $AAPL (Apple Inc) 50d MA is just below its 200...\n",
       "59    $AAPL (Apple Inc) is at $93.49 with a 1-month ...\n",
       "60    RT @RatingsNetwork: Apple's buy rating reitera...\n",
       "61    Apple Inc. Reiterated Rating by Citigroup (Ran...\n",
       "62    Apple Inc. Reiterated Rating by Morgan Stanley...\n",
       "63    Apple's outperform rating reiterated at Morgan...\n",
       "64    Apple's buy rating reiterated at Citigroup Inc...\n",
       "65    Apple Inc. Reiterated Rating by Sanford Bernst...\n",
       "66    Apple Inc. Reiterated Rating by Drexel Hamilto...\n",
       "67    RT @JPDesloges: Apple: Into a Daily Uptrend Ch...\n",
       "68    RT @JPDesloges: Apple: Into a Daily Uptrend Ch...\n",
       "69    Apple: Into a Daily Uptrend Channel on Apple S...\n",
       "70    RT @RatingsNetwork: Apple given $136.00 PT by ...\n",
       "71    Apple given $136.00 PT by Goldman Sachs. buy r...\n",
       "72    Apple Inc. Set Price Target by Goldman Sachs (...\n",
       "73    RT @RatingsNetwork: Apple's buy rating reitera...\n",
       "74    Apple Inc. Reiterated Rating by Credit Agricol...\n",
       "75    Apple's buy rating reiterated at Credit Agrico...\n",
       "76    $AAPL (Apple Inc) is above its lower Bollinger...\n",
       "77    $AAPL (Apple Inc) 20d MA is below its 50d MA h...\n",
       "78    Apple: Finally back above the Daily Flash Cras...\n",
       "79    tradingview: $AAPL - #AAPL: Hit Bottom? Bulls ...\n",
       "80    $AAPL - #AAPL: Hit Bottom? Bulls Active, Expec...\n",
       "81    #AAPL: Hit Bottom? Bulls Act\\u2026 $AAPL https...\n",
       "Name: text, dtype: object"
      ]
     },
     "execution_count": 152,
     "metadata": {},
     "output_type": "execute_result"
    }
   ],
   "source": [
    "temp"
   ]
  },
  {
   "cell_type": "code",
   "execution_count": 158,
   "metadata": {
    "collapsed": false
   },
   "outputs": [],
   "source": [
    "temp=temp.replace({'http.+\\s':''},regex=True)"
   ]
  },
  {
   "cell_type": "code",
   "execution_count": 159,
   "metadata": {
    "collapsed": false
   },
   "outputs": [
    {
     "data": {
      "text/plain": [
       "' given pt by morgan stanley buy rating '"
      ]
     },
     "execution_count": 159,
     "metadata": {},
     "output_type": "execute_result"
    }
   ],
   "source": [
    "temp[7]"
   ]
  },
  {
   "cell_type": "code",
   "execution_count": 161,
   "metadata": {
    "collapsed": false
   },
   "outputs": [],
   "source": [
    "temp=temp.replace({'[^A-Za-z#]':' '}, regex=True)"
   ]
  },
  {
   "cell_type": "code",
   "execution_count": 162,
   "metadata": {
    "collapsed": false
   },
   "outputs": [
    {
     "data": {
      "text/plain": [
       "' given pt by morgan stanley buy rating '"
      ]
     },
     "execution_count": 162,
     "metadata": {},
     "output_type": "execute_result"
    }
   ],
   "source": [
    "temp[7]"
   ]
  },
  {
   "cell_type": "code",
   "execution_count": 163,
   "metadata": {
    "collapsed": false
   },
   "outputs": [],
   "source": [
    "temp=temp.replace({'\\s+':' '}, regex=True)"
   ]
  },
  {
   "cell_type": "code",
   "execution_count": 164,
   "metadata": {
    "collapsed": false
   },
   "outputs": [],
   "source": [
    "temp=temp.replace({'\\s.\\s':' '}, regex=True)"
   ]
  },
  {
   "cell_type": "code",
   "execution_count": 165,
   "metadata": {
    "collapsed": false
   },
   "outputs": [],
   "source": [
    "temp=temp.map(lambda val: val.lower())"
   ]
  },
  {
   "cell_type": "code",
   "execution_count": 166,
   "metadata": {
    "collapsed": false
   },
   "outputs": [],
   "source": [
    "temp=temp.replace({'apple|#aapl|#apple|aapl':''}, regex=True)"
   ]
  },
  {
   "cell_type": "code",
   "execution_count": 168,
   "metadata": {
    "collapsed": false
   },
   "outputs": [],
   "source": [
    "#temp.replace({'http.+\\s':'%%'}, regex=True)[7]\n",
    "data['text']=temp"
   ]
  },
  {
   "cell_type": "code",
   "execution_count": 169,
   "metadata": {
    "collapsed": false
   },
   "outputs": [
    {
     "data": {
      "text/html": [
       "<div>\n",
       "<table border=\"1\" class=\"dataframe\">\n",
       "  <thead>\n",
       "    <tr style=\"text-align: right;\">\n",
       "      <th></th>\n",
       "      <th>id</th>\n",
       "      <th>text</th>\n",
       "      <th>datetime</th>\n",
       "      <th>Location</th>\n",
       "    </tr>\n",
       "  </thead>\n",
       "  <tbody>\n",
       "    <tr>\n",
       "      <th>0</th>\n",
       "      <td>735629055853137921</td>\n",
       "      <td>inc reiterated rating by rbc capital mkts ran...</td>\n",
       "      <td>2016-05-26 00:30:08</td>\n",
       "      <td>None</td>\n",
       "    </tr>\n",
       "    <tr>\n",
       "      <th>1</th>\n",
       "      <td>735526940812140544</td>\n",
       "      <td>bulls still pushing their luck as above daily...</td>\n",
       "      <td>2016-05-25 17:44:22</td>\n",
       "      <td>None</td>\n",
       "    </tr>\n",
       "    <tr>\n",
       "      <th>2</th>\n",
       "      <td>735480630973235201</td>\n",
       "      <td>bulls pushing their luck as above the daily r...</td>\n",
       "      <td>2016-05-25 14:40:21</td>\n",
       "      <td>None</td>\n",
       "    </tr>\n",
       "    <tr>\n",
       "      <th>3</th>\n",
       "      <td>735470726589906946</td>\n",
       "      <td>rt ratingsnetwork given pt by morgan stanley b...</td>\n",
       "      <td>2016-05-25 14:01:00</td>\n",
       "      <td>None</td>\n",
       "    </tr>\n",
       "    <tr>\n",
       "      <th>6</th>\n",
       "      <td>735447850268528640</td>\n",
       "      <td>inc set price target by morgan stanley ranked...</td>\n",
       "      <td>2016-05-25 12:30:06</td>\n",
       "      <td>None</td>\n",
       "    </tr>\n",
       "    <tr>\n",
       "      <th>7</th>\n",
       "      <td>735446938204667905</td>\n",
       "      <td>given pt by morgan stanley buy rating</td>\n",
       "      <td>2016-05-25 12:26:28</td>\n",
       "      <td>None</td>\n",
       "    </tr>\n",
       "    <tr>\n",
       "      <th>9</th>\n",
       "      <td>735383719498911746</td>\n",
       "      <td>short term elliott wave analysis dby</td>\n",
       "      <td>2016-05-25 08:15:16</td>\n",
       "      <td>None</td>\n",
       "    </tr>\n",
       "    <tr>\n",
       "      <th>10</th>\n",
       "      <td>735351288179888128</td>\n",
       "      <td>buy rating reiterated at bmo capital markets</td>\n",
       "      <td>2016-05-25 06:06:23</td>\n",
       "      <td>None</td>\n",
       "    </tr>\n",
       "    <tr>\n",
       "      <th>11</th>\n",
       "      <td>735349914889289729</td>\n",
       "      <td>inc reiterated rating by bmo capital markets ...</td>\n",
       "      <td>2016-05-25 06:00:56</td>\n",
       "      <td>None</td>\n",
       "    </tr>\n",
       "    <tr>\n",
       "      <th>12</th>\n",
       "      <td>735349793598377985</td>\n",
       "      <td>inc upgrade by pacific crest securities ranke...</td>\n",
       "      <td>2016-05-25 06:00:27</td>\n",
       "      <td>None</td>\n",
       "    </tr>\n",
       "    <tr>\n",
       "      <th>14</th>\n",
       "      <td>735306521152737280</td>\n",
       "      <td>inc is below its upper bollinger band of</td>\n",
       "      <td>2016-05-25 03:08:30</td>\n",
       "      <td>None</td>\n",
       "    </tr>\n",
       "    <tr>\n",
       "      <th>15</th>\n",
       "      <td>735300449276956672</td>\n",
       "      <td>inc is at below its chandelier exit of</td>\n",
       "      <td>2016-05-25 02:44:22</td>\n",
       "      <td>None</td>\n",
       "    </tr>\n",
       "    <tr>\n",
       "      <th>16</th>\n",
       "      <td>735204915329536000</td>\n",
       "      <td>rt ratingsnetwork buy rating reiterated at bre...</td>\n",
       "      <td>2016-05-24 20:24:45</td>\n",
       "      <td>None</td>\n",
       "    </tr>\n",
       "    <tr>\n",
       "      <th>19</th>\n",
       "      <td>735204071624351745</td>\n",
       "      <td>buy rating reiterated at brean capital</td>\n",
       "      <td>2016-05-24 20:21:24</td>\n",
       "      <td>None</td>\n",
       "    </tr>\n",
       "    <tr>\n",
       "      <th>20</th>\n",
       "      <td>735202520457322496</td>\n",
       "      <td>inc reiterated rating by brean capital ranked...</td>\n",
       "      <td>2016-05-24 20:15:14</td>\n",
       "      <td>None</td>\n",
       "    </tr>\n",
       "    <tr>\n",
       "      <th>22</th>\n",
       "      <td>735187169497763840</td>\n",
       "      <td>testing the resistance trendline from daily u...</td>\n",
       "      <td>2016-05-24 19:14:14</td>\n",
       "      <td>None</td>\n",
       "    </tr>\n",
       "    <tr>\n",
       "      <th>23</th>\n",
       "      <td>735108849984757760</td>\n",
       "      <td>testing the resistance trendline from daily u...</td>\n",
       "      <td>2016-05-24 14:03:02</td>\n",
       "      <td>None</td>\n",
       "    </tr>\n",
       "    <tr>\n",
       "      <th>24</th>\n",
       "      <td>735075781739741184</td>\n",
       "      <td></td>\n",
       "      <td>2016-05-24 11:51:38</td>\n",
       "      <td>None</td>\n",
       "    </tr>\n",
       "    <tr>\n",
       "      <th>25</th>\n",
       "      <td>735021106659106816</td>\n",
       "      <td>short term elliott wave analysis #elliottwave</td>\n",
       "      <td>2016-05-24 08:14:22</td>\n",
       "      <td>None</td>\n",
       "    </tr>\n",
       "    <tr>\n",
       "      <th>26</th>\n",
       "      <td>734942685870559232</td>\n",
       "      <td>inc is at below its month high</td>\n",
       "      <td>2016-05-24 03:02:45</td>\n",
       "      <td>None</td>\n",
       "    </tr>\n",
       "    <tr>\n",
       "      <th>27</th>\n",
       "      <td>734842655809654784</td>\n",
       "      <td>bruce greenwald on inc #brucegreenwald #columb...</td>\n",
       "      <td>2016-05-23 20:25:16</td>\n",
       "      <td>None</td>\n",
       "    </tr>\n",
       "    <tr>\n",
       "      <th>28</th>\n",
       "      <td>734805184220659712</td>\n",
       "      <td>near testing the resistance trendline from da...</td>\n",
       "      <td>2016-05-23 17:56:22</td>\n",
       "      <td>None</td>\n",
       "    </tr>\n",
       "    <tr>\n",
       "      <th>29</th>\n",
       "      <td>734741480162611200</td>\n",
       "      <td>near testing the resistance trendline from da...</td>\n",
       "      <td>2016-05-23 13:43:14</td>\n",
       "      <td>None</td>\n",
       "    </tr>\n",
       "    <tr>\n",
       "      <th>30</th>\n",
       "      <td>734708011168473088</td>\n",
       "      <td>inc set price target by nomura ranked th to b...</td>\n",
       "      <td>2016-05-23 11:30:14</td>\n",
       "      <td>None</td>\n",
       "    </tr>\n",
       "    <tr>\n",
       "      <th>31</th>\n",
       "      <td>734617444141125632</td>\n",
       "      <td>inc reiterated rating by piper jaffray ranked...</td>\n",
       "      <td>2016-05-23 05:30:21</td>\n",
       "      <td>None</td>\n",
       "    </tr>\n",
       "    <tr>\n",
       "      <th>32</th>\n",
       "      <td>734484629906849792</td>\n",
       "      <td>nice bounce off sma olblplfceg</td>\n",
       "      <td>2016-05-22 20:42:36</td>\n",
       "      <td>None</td>\n",
       "    </tr>\n",
       "    <tr>\n",
       "      <th>33</th>\n",
       "      <td>734321340476469248</td>\n",
       "      <td>rt zolmaxnews inc stake increased by bb amp se...</td>\n",
       "      <td>2016-05-22 09:53:45</td>\n",
       "      <td>None</td>\n",
       "    </tr>\n",
       "    <tr>\n",
       "      <th>34</th>\n",
       "      <td>734321339591462912</td>\n",
       "      <td>rt dpolitical inc stake increased by bb amp se...</td>\n",
       "      <td>2016-05-22 09:53:45</td>\n",
       "      <td>None</td>\n",
       "    </tr>\n",
       "    <tr>\n",
       "      <th>35</th>\n",
       "      <td>734305252460122112</td>\n",
       "      <td>inc stake increased by bb amp securities llc ...</td>\n",
       "      <td>2016-05-22 08:49:49</td>\n",
       "      <td>None</td>\n",
       "    </tr>\n",
       "    <tr>\n",
       "      <th>36</th>\n",
       "      <td>734305154720272384</td>\n",
       "      <td>inc stake increased by bb amp securities llc ltf</td>\n",
       "      <td>2016-05-22 08:49:26</td>\n",
       "      <td>None</td>\n",
       "    </tr>\n",
       "    <tr>\n",
       "      <th>...</th>\n",
       "      <td>...</td>\n",
       "      <td>...</td>\n",
       "      <td>...</td>\n",
       "      <td>...</td>\n",
       "    </tr>\n",
       "    <tr>\n",
       "      <th>51</th>\n",
       "      <td>733138662616137729</td>\n",
       "      <td>rt investalert inc is at below its chandelier ...</td>\n",
       "      <td>2016-05-19 03:34:12</td>\n",
       "      <td>None</td>\n",
       "    </tr>\n",
       "    <tr>\n",
       "      <th>54</th>\n",
       "      <td>733120614647619584</td>\n",
       "      <td>inc has month rsi of</td>\n",
       "      <td>2016-05-19 02:22:29</td>\n",
       "      <td>None</td>\n",
       "    </tr>\n",
       "    <tr>\n",
       "      <th>55</th>\n",
       "      <td>732948459607719937</td>\n",
       "      <td>near resistance trendline from daily uptrend ...</td>\n",
       "      <td>2016-05-18 14:58:24</td>\n",
       "      <td>None</td>\n",
       "    </tr>\n",
       "    <tr>\n",
       "      <th>56</th>\n",
       "      <td>732926234502406148</td>\n",
       "      <td>inc reiterated rating by credit suisse ranked...</td>\n",
       "      <td>2016-05-18 13:30:06</td>\n",
       "      <td>None</td>\n",
       "    </tr>\n",
       "    <tr>\n",
       "      <th>57</th>\n",
       "      <td>732924866387685376</td>\n",
       "      <td>average rating reiterated at credit suisse pt</td>\n",
       "      <td>2016-05-18 13:24:39</td>\n",
       "      <td>None</td>\n",
       "    </tr>\n",
       "    <tr>\n",
       "      <th>58</th>\n",
       "      <td>732922491908280320</td>\n",
       "      <td>rt consumerfeed average rating reiterated at c...</td>\n",
       "      <td>2016-05-18 13:15:13</td>\n",
       "      <td>None</td>\n",
       "    </tr>\n",
       "    <tr>\n",
       "      <th>60</th>\n",
       "      <td>732797924715986946</td>\n",
       "      <td>inc reiterated rating by canaccord genuity ra...</td>\n",
       "      <td>2016-05-18 05:00:14</td>\n",
       "      <td>None</td>\n",
       "    </tr>\n",
       "    <tr>\n",
       "      <th>61</th>\n",
       "      <td>732771434930569216</td>\n",
       "      <td>inc ma is just below its ma</td>\n",
       "      <td>2016-05-18 03:14:58</td>\n",
       "      <td>None</td>\n",
       "    </tr>\n",
       "    <tr>\n",
       "      <th>63</th>\n",
       "      <td>732730815151546369</td>\n",
       "      <td>rt ratingsnetwork buy rating reiterated at cit...</td>\n",
       "      <td>2016-05-18 00:33:34</td>\n",
       "      <td>None</td>\n",
       "    </tr>\n",
       "    <tr>\n",
       "      <th>64</th>\n",
       "      <td>732729967713222656</td>\n",
       "      <td>inc reiterated rating by citigroup ranked th ...</td>\n",
       "      <td>2016-05-18 00:30:12</td>\n",
       "      <td>None</td>\n",
       "    </tr>\n",
       "    <tr>\n",
       "      <th>65</th>\n",
       "      <td>732729948859863041</td>\n",
       "      <td>inc reiterated rating by morgan stanley ranke...</td>\n",
       "      <td>2016-05-18 00:30:07</td>\n",
       "      <td>None</td>\n",
       "    </tr>\n",
       "    <tr>\n",
       "      <th>66</th>\n",
       "      <td>732729641241284608</td>\n",
       "      <td>outperform rating reiterated at morgan stanle...</td>\n",
       "      <td>2016-05-18 00:28:54</td>\n",
       "      <td>None</td>\n",
       "    </tr>\n",
       "    <tr>\n",
       "      <th>67</th>\n",
       "      <td>732729636749225984</td>\n",
       "      <td>buy rating reiterated at citigroup inc</td>\n",
       "      <td>2016-05-18 00:28:53</td>\n",
       "      <td>None</td>\n",
       "    </tr>\n",
       "    <tr>\n",
       "      <th>70</th>\n",
       "      <td>732650802561458176</td>\n",
       "      <td>inc reiterated rating by sanford bernstein ra...</td>\n",
       "      <td>2016-05-17 19:15:37</td>\n",
       "      <td>None</td>\n",
       "    </tr>\n",
       "    <tr>\n",
       "      <th>71</th>\n",
       "      <td>732650719858188288</td>\n",
       "      <td>inc reiterated rating by drexel hamilton rank...</td>\n",
       "      <td>2016-05-17 19:15:18</td>\n",
       "      <td>None</td>\n",
       "    </tr>\n",
       "    <tr>\n",
       "      <th>72</th>\n",
       "      <td>732641429579796484</td>\n",
       "      <td>rt jpdesloges into daily uptrend channel on sh...</td>\n",
       "      <td>2016-05-17 18:38:23</td>\n",
       "      <td>None</td>\n",
       "    </tr>\n",
       "    <tr>\n",
       "      <th>73</th>\n",
       "      <td>732636121172185088</td>\n",
       "      <td>rt consumerfeed given pt by goldman sachs buy ...</td>\n",
       "      <td>2016-05-17 18:17:17</td>\n",
       "      <td>None</td>\n",
       "    </tr>\n",
       "    <tr>\n",
       "      <th>75</th>\n",
       "      <td>732633391854723078</td>\n",
       "      <td>into daily uptrend channel on shares #trading...</td>\n",
       "      <td>2016-05-17 18:06:26</td>\n",
       "      <td>None</td>\n",
       "    </tr>\n",
       "    <tr>\n",
       "      <th>76</th>\n",
       "      <td>732586056047054848</td>\n",
       "      <td>rt ratingsnetwork given pt by goldman sachs bu...</td>\n",
       "      <td>2016-05-17 14:58:21</td>\n",
       "      <td>None</td>\n",
       "    </tr>\n",
       "    <tr>\n",
       "      <th>77</th>\n",
       "      <td>732583909188358144</td>\n",
       "      <td>given pt by goldman sachs buy rating</td>\n",
       "      <td>2016-05-17 14:49:49</td>\n",
       "      <td>None</td>\n",
       "    </tr>\n",
       "    <tr>\n",
       "      <th>79</th>\n",
       "      <td>732582712884613120</td>\n",
       "      <td>inc set price target by goldman sachs ranked ...</td>\n",
       "      <td>2016-05-17 14:45:04</td>\n",
       "      <td>None</td>\n",
       "    </tr>\n",
       "    <tr>\n",
       "      <th>81</th>\n",
       "      <td>732565822464503809</td>\n",
       "      <td>buy rating reiterated at credit agricole pt</td>\n",
       "      <td>2016-05-17 13:37:57</td>\n",
       "      <td>None</td>\n",
       "    </tr>\n",
       "    <tr>\n",
       "      <th>82</th>\n",
       "      <td>732565379982237696</td>\n",
       "      <td>rt ratingsnetwork buy rating reiterated at cre...</td>\n",
       "      <td>2016-05-17 13:36:11</td>\n",
       "      <td>None</td>\n",
       "    </tr>\n",
       "    <tr>\n",
       "      <th>83</th>\n",
       "      <td>732563848490672129</td>\n",
       "      <td>inc reiterated rating by credit agricole rank...</td>\n",
       "      <td>2016-05-17 13:30:06</td>\n",
       "      <td>None</td>\n",
       "    </tr>\n",
       "    <tr>\n",
       "      <th>85</th>\n",
       "      <td>732401186188460032</td>\n",
       "      <td>inc is above its lower bollinger band of</td>\n",
       "      <td>2016-05-17 02:43:44</td>\n",
       "      <td>None</td>\n",
       "    </tr>\n",
       "    <tr>\n",
       "      <th>86</th>\n",
       "      <td>732393841463050240</td>\n",
       "      <td>inc ma is below its ma</td>\n",
       "      <td>2016-05-17 02:14:33</td>\n",
       "      <td>None</td>\n",
       "    </tr>\n",
       "    <tr>\n",
       "      <th>87</th>\n",
       "      <td>732266083583954947</td>\n",
       "      <td>finally back above the daily flash crash resi...</td>\n",
       "      <td>2016-05-16 17:46:53</td>\n",
       "      <td>None</td>\n",
       "    </tr>\n",
       "    <tr>\n",
       "      <th>88</th>\n",
       "      <td>732239707174776833</td>\n",
       "      <td>tradingview hit bottom bulls active expecting ...</td>\n",
       "      <td>2016-05-16 16:02:05</td>\n",
       "      <td>None</td>\n",
       "    </tr>\n",
       "    <tr>\n",
       "      <th>89</th>\n",
       "      <td>732236675355529217</td>\n",
       "      <td>hit bottom bulls active expecting upside hjllarb</td>\n",
       "      <td>2016-05-16 15:50:02</td>\n",
       "      <td>None</td>\n",
       "    </tr>\n",
       "    <tr>\n",
       "      <th>90</th>\n",
       "      <td>732235229021102080</td>\n",
       "      <td>hit bottom bulls act gvk</td>\n",
       "      <td>2016-05-16 15:44:17</td>\n",
       "      <td>None</td>\n",
       "    </tr>\n",
       "  </tbody>\n",
       "</table>\n",
       "<p>72 rows × 4 columns</p>\n",
       "</div>"
      ],
      "text/plain": [
       "                    id                                               text  \\\n",
       "0   735629055853137921   inc reiterated rating by rbc capital mkts ran...   \n",
       "1   735526940812140544   bulls still pushing their luck as above daily...   \n",
       "2   735480630973235201   bulls pushing their luck as above the daily r...   \n",
       "3   735470726589906946  rt ratingsnetwork given pt by morgan stanley b...   \n",
       "6   735447850268528640   inc set price target by morgan stanley ranked...   \n",
       "7   735446938204667905             given pt by morgan stanley buy rating    \n",
       "9   735383719498911746               short term elliott wave analysis dby   \n",
       "10  735351288179888128      buy rating reiterated at bmo capital markets    \n",
       "11  735349914889289729   inc reiterated rating by bmo capital markets ...   \n",
       "12  735349793598377985   inc upgrade by pacific crest securities ranke...   \n",
       "14  735306521152737280          inc is below its upper bollinger band of    \n",
       "15  735300449276956672            inc is at below its chandelier exit of    \n",
       "16  735204915329536000  rt ratingsnetwork buy rating reiterated at bre...   \n",
       "19  735204071624351745            buy rating reiterated at brean capital    \n",
       "20  735202520457322496   inc reiterated rating by brean capital ranked...   \n",
       "22  735187169497763840   testing the resistance trendline from daily u...   \n",
       "23  735108849984757760   testing the resistance trendline from daily u...   \n",
       "24  735075781739741184                                                      \n",
       "25  735021106659106816      short term elliott wave analysis #elliottwave   \n",
       "26  734942685870559232                    inc is at below its month high    \n",
       "27  734842655809654784  bruce greenwald on inc #brucegreenwald #columb...   \n",
       "28  734805184220659712   near testing the resistance trendline from da...   \n",
       "29  734741480162611200   near testing the resistance trendline from da...   \n",
       "30  734708011168473088   inc set price target by nomura ranked th to b...   \n",
       "31  734617444141125632   inc reiterated rating by piper jaffray ranked...   \n",
       "32  734484629906849792                     nice bounce off sma olblplfceg   \n",
       "33  734321340476469248  rt zolmaxnews inc stake increased by bb amp se...   \n",
       "34  734321339591462912  rt dpolitical inc stake increased by bb amp se...   \n",
       "35  734305252460122112   inc stake increased by bb amp securities llc ...   \n",
       "36  734305154720272384   inc stake increased by bb amp securities llc ltf   \n",
       "..                 ...                                                ...   \n",
       "51  733138662616137729  rt investalert inc is at below its chandelier ...   \n",
       "54  733120614647619584                              inc has month rsi of    \n",
       "55  732948459607719937   near resistance trendline from daily uptrend ...   \n",
       "56  732926234502406148   inc reiterated rating by credit suisse ranked...   \n",
       "57  732924866387685376     average rating reiterated at credit suisse pt    \n",
       "58  732922491908280320  rt consumerfeed average rating reiterated at c...   \n",
       "60  732797924715986946   inc reiterated rating by canaccord genuity ra...   \n",
       "61  732771434930569216                       inc ma is just below its ma    \n",
       "63  732730815151546369  rt ratingsnetwork buy rating reiterated at cit...   \n",
       "64  732729967713222656   inc reiterated rating by citigroup ranked th ...   \n",
       "65  732729948859863041   inc reiterated rating by morgan stanley ranke...   \n",
       "66  732729641241284608   outperform rating reiterated at morgan stanle...   \n",
       "67  732729636749225984            buy rating reiterated at citigroup inc    \n",
       "70  732650802561458176   inc reiterated rating by sanford bernstein ra...   \n",
       "71  732650719858188288   inc reiterated rating by drexel hamilton rank...   \n",
       "72  732641429579796484  rt jpdesloges into daily uptrend channel on sh...   \n",
       "73  732636121172185088  rt consumerfeed given pt by goldman sachs buy ...   \n",
       "75  732633391854723078   into daily uptrend channel on shares #trading...   \n",
       "76  732586056047054848  rt ratingsnetwork given pt by goldman sachs bu...   \n",
       "77  732583909188358144              given pt by goldman sachs buy rating    \n",
       "79  732582712884613120   inc set price target by goldman sachs ranked ...   \n",
       "81  732565822464503809       buy rating reiterated at credit agricole pt    \n",
       "82  732565379982237696  rt ratingsnetwork buy rating reiterated at cre...   \n",
       "83  732563848490672129   inc reiterated rating by credit agricole rank...   \n",
       "85  732401186188460032          inc is above its lower bollinger band of    \n",
       "86  732393841463050240                            inc ma is below its ma    \n",
       "87  732266083583954947   finally back above the daily flash crash resi...   \n",
       "88  732239707174776833  tradingview hit bottom bulls active expecting ...   \n",
       "89  732236675355529217   hit bottom bulls active expecting upside hjllarb   \n",
       "90  732235229021102080                           hit bottom bulls act gvk   \n",
       "\n",
       "              datetime Location  \n",
       "0  2016-05-26 00:30:08     None  \n",
       "1  2016-05-25 17:44:22     None  \n",
       "2  2016-05-25 14:40:21     None  \n",
       "3  2016-05-25 14:01:00     None  \n",
       "6  2016-05-25 12:30:06     None  \n",
       "7  2016-05-25 12:26:28     None  \n",
       "9  2016-05-25 08:15:16     None  \n",
       "10 2016-05-25 06:06:23     None  \n",
       "11 2016-05-25 06:00:56     None  \n",
       "12 2016-05-25 06:00:27     None  \n",
       "14 2016-05-25 03:08:30     None  \n",
       "15 2016-05-25 02:44:22     None  \n",
       "16 2016-05-24 20:24:45     None  \n",
       "19 2016-05-24 20:21:24     None  \n",
       "20 2016-05-24 20:15:14     None  \n",
       "22 2016-05-24 19:14:14     None  \n",
       "23 2016-05-24 14:03:02     None  \n",
       "24 2016-05-24 11:51:38     None  \n",
       "25 2016-05-24 08:14:22     None  \n",
       "26 2016-05-24 03:02:45     None  \n",
       "27 2016-05-23 20:25:16     None  \n",
       "28 2016-05-23 17:56:22     None  \n",
       "29 2016-05-23 13:43:14     None  \n",
       "30 2016-05-23 11:30:14     None  \n",
       "31 2016-05-23 05:30:21     None  \n",
       "32 2016-05-22 20:42:36     None  \n",
       "33 2016-05-22 09:53:45     None  \n",
       "34 2016-05-22 09:53:45     None  \n",
       "35 2016-05-22 08:49:49     None  \n",
       "36 2016-05-22 08:49:26     None  \n",
       "..                 ...      ...  \n",
       "51 2016-05-19 03:34:12     None  \n",
       "54 2016-05-19 02:22:29     None  \n",
       "55 2016-05-18 14:58:24     None  \n",
       "56 2016-05-18 13:30:06     None  \n",
       "57 2016-05-18 13:24:39     None  \n",
       "58 2016-05-18 13:15:13     None  \n",
       "60 2016-05-18 05:00:14     None  \n",
       "61 2016-05-18 03:14:58     None  \n",
       "63 2016-05-18 00:33:34     None  \n",
       "64 2016-05-18 00:30:12     None  \n",
       "65 2016-05-18 00:30:07     None  \n",
       "66 2016-05-18 00:28:54     None  \n",
       "67 2016-05-18 00:28:53     None  \n",
       "70 2016-05-17 19:15:37     None  \n",
       "71 2016-05-17 19:15:18     None  \n",
       "72 2016-05-17 18:38:23     None  \n",
       "73 2016-05-17 18:17:17     None  \n",
       "75 2016-05-17 18:06:26     None  \n",
       "76 2016-05-17 14:58:21     None  \n",
       "77 2016-05-17 14:49:49     None  \n",
       "79 2016-05-17 14:45:04     None  \n",
       "81 2016-05-17 13:37:57     None  \n",
       "82 2016-05-17 13:36:11     None  \n",
       "83 2016-05-17 13:30:06     None  \n",
       "85 2016-05-17 02:43:44     None  \n",
       "86 2016-05-17 02:14:33     None  \n",
       "87 2016-05-16 17:46:53     None  \n",
       "88 2016-05-16 16:02:05     None  \n",
       "89 2016-05-16 15:50:02     None  \n",
       "90 2016-05-16 15:44:17     None  \n",
       "\n",
       "[72 rows x 4 columns]"
      ]
     },
     "execution_count": 169,
     "metadata": {},
     "output_type": "execute_result"
    }
   ],
   "source": [
    "data.drop_duplicates(subset='text', keep='first')"
   ]
  },
  {
   "cell_type": "code",
   "execution_count": 172,
   "metadata": {
    "collapsed": false
   },
   "outputs": [],
   "source": [
    "from textblob import TextBlob"
   ]
  },
  {
   "cell_type": "code",
   "execution_count": 177,
   "metadata": {
    "collapsed": true
   },
   "outputs": [],
   "source": [
    "#try pulling out the main concepts in all these tweets and then \n",
    "# run sentiment on them\n",
    "import nltk\n",
    "from sklearn.feature_extraction.text import TfidfVectorizer\n",
    "from sklearn.decomposition import TruncatedSVD"
   ]
  },
  {
   "cell_type": "code",
   "execution_count": 262,
   "metadata": {
    "collapsed": true
   },
   "outputs": [],
   "source": [
    "vectorizer = TfidfVectorizer(use_idf=True, ngram_range=(1,2), \n",
    "                             stop_words=['the','it','as','a','s','inc',\n",
    "                                        'RT','its','llc','at','by','with'])"
   ]
  },
  {
   "cell_type": "code",
   "execution_count": 263,
   "metadata": {
    "collapsed": false
   },
   "outputs": [],
   "source": [
    "X = vectorizer.fit_transform(data.text)"
   ]
  },
  {
   "cell_type": "code",
   "execution_count": 264,
   "metadata": {
    "collapsed": true
   },
   "outputs": [],
   "source": [
    "lsa =TruncatedSVD(n_components=3, n_iter=100)"
   ]
  },
  {
   "cell_type": "code",
   "execution_count": 265,
   "metadata": {
    "collapsed": false
   },
   "outputs": [
    {
     "data": {
      "text/plain": [
       "TruncatedSVD(algorithm='randomized', n_components=3, n_iter=100,\n",
       "       random_state=None, tol=0.0)"
      ]
     },
     "execution_count": 265,
     "metadata": {},
     "output_type": "execute_result"
    }
   ],
   "source": [
    "lsa.fit(X)"
   ]
  },
  {
   "cell_type": "code",
   "execution_count": 266,
   "metadata": {
    "collapsed": true
   },
   "outputs": [],
   "source": [
    "import numpy as np"
   ]
  },
  {
   "cell_type": "code",
   "execution_count": 267,
   "metadata": {
    "collapsed": true
   },
   "outputs": [],
   "source": [
    "terms = vectorizer.get_feature_names()"
   ]
  },
  {
   "cell_type": "code",
   "execution_count": 277,
   "metadata": {
    "collapsed": true
   },
   "outputs": [
    {
     "data": {
      "text/html": [
       "<div>\n",
       "<table border=\"1\" class=\"dataframe\">\n",
       "  <thead>\n",
       "    <tr style=\"text-align: right;\">\n",
       "      <th></th>\n",
       "      <th>concept</th>\n",
       "      <th>terms</th>\n",
       "      <th>LSAscore</th>\n",
       "    </tr>\n",
       "  </thead>\n",
       "  <tbody>\n",
       "    <tr>\n",
       "      <th>0</th>\n",
       "      <td>1</td>\n",
       "      <td>above</td>\n",
       "      <td>2.844627e-02</td>\n",
       "    </tr>\n",
       "    <tr>\n",
       "      <th>1</th>\n",
       "      <td>1</td>\n",
       "      <td>above daily</td>\n",
       "      <td>2.937689e-02</td>\n",
       "    </tr>\n",
       "    <tr>\n",
       "      <th>2</th>\n",
       "      <td>1</td>\n",
       "      <td>above lower</td>\n",
       "      <td>8.467557e-04</td>\n",
       "    </tr>\n",
       "    <tr>\n",
       "      <th>3</th>\n",
       "      <td>1</td>\n",
       "      <td>act</td>\n",
       "      <td>4.772098e-04</td>\n",
       "    </tr>\n",
       "    <tr>\n",
       "      <th>4</th>\n",
       "      <td>1</td>\n",
       "      <td>act gvk</td>\n",
       "      <td>4.772098e-04</td>\n",
       "    </tr>\n",
       "    <tr>\n",
       "      <th>5</th>\n",
       "      <td>1</td>\n",
       "      <td>active</td>\n",
       "      <td>1.330517e-03</td>\n",
       "    </tr>\n",
       "    <tr>\n",
       "      <th>6</th>\n",
       "      <td>1</td>\n",
       "      <td>active expecting</td>\n",
       "      <td>1.330517e-03</td>\n",
       "    </tr>\n",
       "    <tr>\n",
       "      <th>7</th>\n",
       "      <td>1</td>\n",
       "      <td>agricole</td>\n",
       "      <td>-4.924377e-03</td>\n",
       "    </tr>\n",
       "    <tr>\n",
       "      <th>8</th>\n",
       "      <td>1</td>\n",
       "      <td>agricole pt</td>\n",
       "      <td>-4.024260e-03</td>\n",
       "    </tr>\n",
       "    <tr>\n",
       "      <th>9</th>\n",
       "      <td>1</td>\n",
       "      <td>agricole ranked</td>\n",
       "      <td>-1.768307e-03</td>\n",
       "    </tr>\n",
       "    <tr>\n",
       "      <th>10</th>\n",
       "      <td>1</td>\n",
       "      <td>agricole reiterates</td>\n",
       "      <td>-3.924943e-04</td>\n",
       "    </tr>\n",
       "    <tr>\n",
       "      <th>11</th>\n",
       "      <td>1</td>\n",
       "      <td>americanbanking</td>\n",
       "      <td>9.965374e-05</td>\n",
       "    </tr>\n",
       "    <tr>\n",
       "      <th>12</th>\n",
       "      <td>1</td>\n",
       "      <td>americanbanking credit</td>\n",
       "      <td>9.965374e-05</td>\n",
       "    </tr>\n",
       "    <tr>\n",
       "      <th>13</th>\n",
       "      <td>1</td>\n",
       "      <td>amp</td>\n",
       "      <td>1.380912e-03</td>\n",
       "    </tr>\n",
       "    <tr>\n",
       "      <th>14</th>\n",
       "      <td>1</td>\n",
       "      <td>amp securities</td>\n",
       "      <td>1.380912e-03</td>\n",
       "    </tr>\n",
       "    <tr>\n",
       "      <th>15</th>\n",
       "      <td>1</td>\n",
       "      <td>analysis</td>\n",
       "      <td>-3.760975e-59</td>\n",
       "    </tr>\n",
       "    <tr>\n",
       "      <th>16</th>\n",
       "      <td>1</td>\n",
       "      <td>analysis dby</td>\n",
       "      <td>-2.052868e-59</td>\n",
       "    </tr>\n",
       "    <tr>\n",
       "      <th>17</th>\n",
       "      <td>1</td>\n",
       "      <td>analysis elliottwave</td>\n",
       "      <td>-2.052868e-59</td>\n",
       "    </tr>\n",
       "    <tr>\n",
       "      <th>18</th>\n",
       "      <td>1</td>\n",
       "      <td>average</td>\n",
       "      <td>-3.039803e-03</td>\n",
       "    </tr>\n",
       "    <tr>\n",
       "      <th>19</th>\n",
       "      <td>1</td>\n",
       "      <td>average pt</td>\n",
       "      <td>-1.000501e-03</td>\n",
       "    </tr>\n",
       "    <tr>\n",
       "      <th>20</th>\n",
       "      <td>1</td>\n",
       "      <td>average rating</td>\n",
       "      <td>-2.018393e-03</td>\n",
       "    </tr>\n",
       "    <tr>\n",
       "      <th>21</th>\n",
       "      <td>1</td>\n",
       "      <td>back</td>\n",
       "      <td>7.075541e-03</td>\n",
       "    </tr>\n",
       "    <tr>\n",
       "      <th>22</th>\n",
       "      <td>1</td>\n",
       "      <td>back above</td>\n",
       "      <td>7.075541e-03</td>\n",
       "    </tr>\n",
       "    <tr>\n",
       "      <th>23</th>\n",
       "      <td>1</td>\n",
       "      <td>band</td>\n",
       "      <td>1.295463e-03</td>\n",
       "    </tr>\n",
       "    <tr>\n",
       "      <th>24</th>\n",
       "      <td>1</td>\n",
       "      <td>band of</td>\n",
       "      <td>1.295463e-03</td>\n",
       "    </tr>\n",
       "    <tr>\n",
       "      <th>25</th>\n",
       "      <td>1</td>\n",
       "      <td>bb</td>\n",
       "      <td>1.380912e-03</td>\n",
       "    </tr>\n",
       "    <tr>\n",
       "      <th>26</th>\n",
       "      <td>1</td>\n",
       "      <td>bb amp</td>\n",
       "      <td>1.380912e-03</td>\n",
       "    </tr>\n",
       "    <tr>\n",
       "      <th>27</th>\n",
       "      <td>1</td>\n",
       "      <td>below</td>\n",
       "      <td>4.129746e-03</td>\n",
       "    </tr>\n",
       "    <tr>\n",
       "      <th>28</th>\n",
       "      <td>1</td>\n",
       "      <td>below chandelier</td>\n",
       "      <td>2.779309e-03</td>\n",
       "    </tr>\n",
       "    <tr>\n",
       "      <th>29</th>\n",
       "      <td>1</td>\n",
       "      <td>below ma</td>\n",
       "      <td>3.968504e-04</td>\n",
       "    </tr>\n",
       "    <tr>\n",
       "      <th>...</th>\n",
       "      <td>...</td>\n",
       "      <td>...</td>\n",
       "      <td>...</td>\n",
       "    </tr>\n",
       "    <tr>\n",
       "      <th>328</th>\n",
       "      <td>1</td>\n",
       "      <td>trendline</td>\n",
       "      <td>1.390829e-01</td>\n",
       "    </tr>\n",
       "    <tr>\n",
       "      <th>329</th>\n",
       "      <td>1</td>\n",
       "      <td>trendline from</td>\n",
       "      <td>1.295595e-01</td>\n",
       "    </tr>\n",
       "    <tr>\n",
       "      <th>330</th>\n",
       "      <td>1</td>\n",
       "      <td>trendline of</td>\n",
       "      <td>2.493947e-02</td>\n",
       "    </tr>\n",
       "    <tr>\n",
       "      <th>331</th>\n",
       "      <td>1</td>\n",
       "      <td>trendline red</td>\n",
       "      <td>7.075541e-03</td>\n",
       "    </tr>\n",
       "    <tr>\n",
       "      <th>332</th>\n",
       "      <td>1</td>\n",
       "      <td>uahrwu</td>\n",
       "      <td>7.075541e-03</td>\n",
       "    </tr>\n",
       "    <tr>\n",
       "      <th>333</th>\n",
       "      <td>1</td>\n",
       "      <td>update</td>\n",
       "      <td>7.249662e-04</td>\n",
       "    </tr>\n",
       "    <tr>\n",
       "      <th>334</th>\n",
       "      <td>1</td>\n",
       "      <td>update hit</td>\n",
       "      <td>7.249662e-04</td>\n",
       "    </tr>\n",
       "    <tr>\n",
       "      <th>335</th>\n",
       "      <td>1</td>\n",
       "      <td>upgrade</td>\n",
       "      <td>-2.801527e-04</td>\n",
       "    </tr>\n",
       "    <tr>\n",
       "      <th>336</th>\n",
       "      <td>1</td>\n",
       "      <td>upgrade pacific</td>\n",
       "      <td>-2.801527e-04</td>\n",
       "    </tr>\n",
       "    <tr>\n",
       "      <th>337</th>\n",
       "      <td>1</td>\n",
       "      <td>upper</td>\n",
       "      <td>5.667432e-04</td>\n",
       "    </tr>\n",
       "    <tr>\n",
       "      <th>338</th>\n",
       "      <td>1</td>\n",
       "      <td>upper bollinger</td>\n",
       "      <td>5.667432e-04</td>\n",
       "    </tr>\n",
       "    <tr>\n",
       "      <th>339</th>\n",
       "      <td>1</td>\n",
       "      <td>upside</td>\n",
       "      <td>1.330517e-03</td>\n",
       "    </tr>\n",
       "    <tr>\n",
       "      <th>340</th>\n",
       "      <td>1</td>\n",
       "      <td>upside hjllarb</td>\n",
       "      <td>4.654818e-04</td>\n",
       "    </tr>\n",
       "    <tr>\n",
       "      <th>341</th>\n",
       "      <td>1</td>\n",
       "      <td>upside vq</td>\n",
       "      <td>3.975848e-04</td>\n",
       "    </tr>\n",
       "    <tr>\n",
       "      <th>342</th>\n",
       "      <td>1</td>\n",
       "      <td>upside xnhk</td>\n",
       "      <td>4.155660e-04</td>\n",
       "    </tr>\n",
       "    <tr>\n",
       "      <th>343</th>\n",
       "      <td>1</td>\n",
       "      <td>upside ykvwi</td>\n",
       "      <td>3.634823e-04</td>\n",
       "    </tr>\n",
       "    <tr>\n",
       "      <th>344</th>\n",
       "      <td>1</td>\n",
       "      <td>uptrend</td>\n",
       "      <td>2.393818e-01</td>\n",
       "    </tr>\n",
       "    <tr>\n",
       "      <th>345</th>\n",
       "      <td>1</td>\n",
       "      <td>uptrend channel</td>\n",
       "      <td>2.393818e-01</td>\n",
       "    </tr>\n",
       "    <tr>\n",
       "      <th>346</th>\n",
       "      <td>1</td>\n",
       "      <td>vq</td>\n",
       "      <td>3.975848e-04</td>\n",
       "    </tr>\n",
       "    <tr>\n",
       "      <th>347</th>\n",
       "      <td>1</td>\n",
       "      <td>wave</td>\n",
       "      <td>-3.760975e-59</td>\n",
       "    </tr>\n",
       "    <tr>\n",
       "      <th>348</th>\n",
       "      <td>1</td>\n",
       "      <td>wave analysis</td>\n",
       "      <td>-3.760975e-59</td>\n",
       "    </tr>\n",
       "    <tr>\n",
       "      <th>349</th>\n",
       "      <td>1</td>\n",
       "      <td>worse</td>\n",
       "      <td>-6.944688e-85</td>\n",
       "    </tr>\n",
       "    <tr>\n",
       "      <th>350</th>\n",
       "      <td>1</td>\n",
       "      <td>worse than</td>\n",
       "      <td>-6.944688e-85</td>\n",
       "    </tr>\n",
       "    <tr>\n",
       "      <th>351</th>\n",
       "      <td>1</td>\n",
       "      <td>xebf</td>\n",
       "      <td>2.814577e-02</td>\n",
       "    </tr>\n",
       "    <tr>\n",
       "      <th>352</th>\n",
       "      <td>1</td>\n",
       "      <td>xnhk</td>\n",
       "      <td>4.155660e-04</td>\n",
       "    </tr>\n",
       "    <tr>\n",
       "      <th>353</th>\n",
       "      <td>1</td>\n",
       "      <td>ykvwi</td>\n",
       "      <td>3.634823e-04</td>\n",
       "    </tr>\n",
       "    <tr>\n",
       "      <th>354</th>\n",
       "      <td>1</td>\n",
       "      <td>you</td>\n",
       "      <td>-6.944688e-85</td>\n",
       "    </tr>\n",
       "    <tr>\n",
       "      <th>355</th>\n",
       "      <td>1</td>\n",
       "      <td>you think</td>\n",
       "      <td>-6.944688e-85</td>\n",
       "    </tr>\n",
       "    <tr>\n",
       "      <th>356</th>\n",
       "      <td>1</td>\n",
       "      <td>zolmaxnews</td>\n",
       "      <td>6.320142e-04</td>\n",
       "    </tr>\n",
       "    <tr>\n",
       "      <th>357</th>\n",
       "      <td>1</td>\n",
       "      <td>zolmaxnews stake</td>\n",
       "      <td>6.320142e-04</td>\n",
       "    </tr>\n",
       "  </tbody>\n",
       "</table>\n",
       "<p>358 rows × 3 columns</p>\n",
       "</div>"
      ],
      "text/plain": [
       "     concept                   terms      LSAscore\n",
       "0          1                   above  2.844627e-02\n",
       "1          1             above daily  2.937689e-02\n",
       "2          1             above lower  8.467557e-04\n",
       "3          1                     act  4.772098e-04\n",
       "4          1                 act gvk  4.772098e-04\n",
       "5          1                  active  1.330517e-03\n",
       "6          1        active expecting  1.330517e-03\n",
       "7          1                agricole -4.924377e-03\n",
       "8          1             agricole pt -4.024260e-03\n",
       "9          1         agricole ranked -1.768307e-03\n",
       "10         1     agricole reiterates -3.924943e-04\n",
       "11         1         americanbanking  9.965374e-05\n",
       "12         1  americanbanking credit  9.965374e-05\n",
       "13         1                     amp  1.380912e-03\n",
       "14         1          amp securities  1.380912e-03\n",
       "15         1                analysis -3.760975e-59\n",
       "16         1            analysis dby -2.052868e-59\n",
       "17         1    analysis elliottwave -2.052868e-59\n",
       "18         1                 average -3.039803e-03\n",
       "19         1              average pt -1.000501e-03\n",
       "20         1          average rating -2.018393e-03\n",
       "21         1                    back  7.075541e-03\n",
       "22         1              back above  7.075541e-03\n",
       "23         1                    band  1.295463e-03\n",
       "24         1                 band of  1.295463e-03\n",
       "25         1                      bb  1.380912e-03\n",
       "26         1                  bb amp  1.380912e-03\n",
       "27         1                   below  4.129746e-03\n",
       "28         1        below chandelier  2.779309e-03\n",
       "29         1                below ma  3.968504e-04\n",
       "..       ...                     ...           ...\n",
       "328        1               trendline  1.390829e-01\n",
       "329        1          trendline from  1.295595e-01\n",
       "330        1            trendline of  2.493947e-02\n",
       "331        1           trendline red  7.075541e-03\n",
       "332        1                  uahrwu  7.075541e-03\n",
       "333        1                  update  7.249662e-04\n",
       "334        1              update hit  7.249662e-04\n",
       "335        1                 upgrade -2.801527e-04\n",
       "336        1         upgrade pacific -2.801527e-04\n",
       "337        1                   upper  5.667432e-04\n",
       "338        1         upper bollinger  5.667432e-04\n",
       "339        1                  upside  1.330517e-03\n",
       "340        1          upside hjllarb  4.654818e-04\n",
       "341        1               upside vq  3.975848e-04\n",
       "342        1             upside xnhk  4.155660e-04\n",
       "343        1            upside ykvwi  3.634823e-04\n",
       "344        1                 uptrend  2.393818e-01\n",
       "345        1         uptrend channel  2.393818e-01\n",
       "346        1                      vq  3.975848e-04\n",
       "347        1                    wave -3.760975e-59\n",
       "348        1           wave analysis -3.760975e-59\n",
       "349        1                   worse -6.944688e-85\n",
       "350        1              worse than -6.944688e-85\n",
       "351        1                    xebf  2.814577e-02\n",
       "352        1                    xnhk  4.155660e-04\n",
       "353        1                   ykvwi  3.634823e-04\n",
       "354        1                     you -6.944688e-85\n",
       "355        1               you think -6.944688e-85\n",
       "356        1              zolmaxnews  6.320142e-04\n",
       "357        1        zolmaxnews stake  6.320142e-04\n",
       "\n",
       "[358 rows x 3 columns]"
      ]
     },
     "execution_count": 277,
     "metadata": {},
     "output_type": "execute_result"
    }
   ],
   "source": [
    "pd.DataFrame(zip(np.repeat([1],len(lsa.components_[0])),terms,lsa.components_[1]), columns=['concept','terms','LSAscore'])"
   ]
  },
  {
   "cell_type": "code",
   "execution_count": 286,
   "metadata": {
    "collapsed": false
   },
   "outputs": [],
   "source": [
    "# concept_df = pd.DataFrame(index=range(lsa.components_.shape[0]*lsa.components_.shape[1]),\n",
    "#                           columns=['component','term','LSAscore'])\n",
    "\n",
    "concept_df = pd.DataFrame(columns=['component','term','LSAscore'])\n",
    "for i, comp in enumerate(lsa.components_):\n",
    "    termsInComp = zip(np.repeat([i],len(comp)),terms,comp)\n",
    "    concept_df = pd.concat([concept_df, \n",
    "                           pd.DataFrame(sorted(termsInComp, key=lambda x: x[2], reverse=True),\n",
    "                                       columns=['component','term','LSAscore'])],\n",
    "                           axis=0)\n",
    "    \n",
    "    \n",
    "#     for j in range(concept_df.shape[0]):\n",
    "#         concept_df['component'][j] = i\n",
    "#         concept_df['term'][j]=sortedTerms[j][0]\n",
    "#         concept_df['LSAscore'][j]=sortedTerms[j][1]"
   ]
  },
  {
   "cell_type": "code",
   "execution_count": 291,
   "metadata": {
    "collapsed": false
   },
   "outputs": [
    {
     "data": {
      "text/html": [
       "<div>\n",
       "<table border=\"1\" class=\"dataframe\">\n",
       "  <thead>\n",
       "    <tr style=\"text-align: right;\">\n",
       "      <th></th>\n",
       "      <th>component</th>\n",
       "      <th>term</th>\n",
       "      <th>LSAscore</th>\n",
       "    </tr>\n",
       "  </thead>\n",
       "  <tbody>\n",
       "    <tr>\n",
       "      <th>0</th>\n",
       "      <td>1.0</td>\n",
       "      <td>investing</td>\n",
       "      <td>0.252507</td>\n",
       "    </tr>\n",
       "    <tr>\n",
       "      <th>1</th>\n",
       "      <td>1.0</td>\n",
       "      <td>trading</td>\n",
       "      <td>0.252507</td>\n",
       "    </tr>\n",
       "    <tr>\n",
       "      <th>2</th>\n",
       "      <td>1.0</td>\n",
       "      <td>trading investing</td>\n",
       "      <td>0.252507</td>\n",
       "    </tr>\n",
       "    <tr>\n",
       "      <th>3</th>\n",
       "      <td>1.0</td>\n",
       "      <td>channel</td>\n",
       "      <td>0.243332</td>\n",
       "    </tr>\n",
       "    <tr>\n",
       "      <th>4</th>\n",
       "      <td>1.0</td>\n",
       "      <td>daily</td>\n",
       "      <td>0.241373</td>\n",
       "    </tr>\n",
       "    <tr>\n",
       "      <th>5</th>\n",
       "      <td>1.0</td>\n",
       "      <td>daily uptrend</td>\n",
       "      <td>0.239382</td>\n",
       "    </tr>\n",
       "    <tr>\n",
       "      <th>6</th>\n",
       "      <td>1.0</td>\n",
       "      <td>uptrend</td>\n",
       "      <td>0.239382</td>\n",
       "    </tr>\n",
       "    <tr>\n",
       "      <th>7</th>\n",
       "      <td>1.0</td>\n",
       "      <td>uptrend channel</td>\n",
       "      <td>0.239382</td>\n",
       "    </tr>\n",
       "    <tr>\n",
       "      <th>8</th>\n",
       "      <td>1.0</td>\n",
       "      <td>on shares</td>\n",
       "      <td>0.228424</td>\n",
       "    </tr>\n",
       "    <tr>\n",
       "      <th>9</th>\n",
       "      <td>1.0</td>\n",
       "      <td>shares</td>\n",
       "      <td>0.228424</td>\n",
       "    </tr>\n",
       "    <tr>\n",
       "      <th>10</th>\n",
       "      <td>1.0</td>\n",
       "      <td>shares trading</td>\n",
       "      <td>0.228424</td>\n",
       "    </tr>\n",
       "    <tr>\n",
       "      <th>11</th>\n",
       "      <td>1.0</td>\n",
       "      <td>on</td>\n",
       "      <td>0.222820</td>\n",
       "    </tr>\n",
       "    <tr>\n",
       "      <th>12</th>\n",
       "      <td>1.0</td>\n",
       "      <td>channel on</td>\n",
       "      <td>0.215963</td>\n",
       "    </tr>\n",
       "    <tr>\n",
       "      <th>13</th>\n",
       "      <td>1.0</td>\n",
       "      <td>into</td>\n",
       "      <td>0.156351</td>\n",
       "    </tr>\n",
       "    <tr>\n",
       "      <th>14</th>\n",
       "      <td>1.0</td>\n",
       "      <td>into daily</td>\n",
       "      <td>0.156351</td>\n",
       "    </tr>\n",
       "    <tr>\n",
       "      <th>15</th>\n",
       "      <td>1.0</td>\n",
       "      <td>resistance</td>\n",
       "      <td>0.139083</td>\n",
       "    </tr>\n",
       "    <tr>\n",
       "      <th>16</th>\n",
       "      <td>1.0</td>\n",
       "      <td>resistance trendline</td>\n",
       "      <td>0.139083</td>\n",
       "    </tr>\n",
       "    <tr>\n",
       "      <th>17</th>\n",
       "      <td>1.0</td>\n",
       "      <td>trendline</td>\n",
       "      <td>0.139083</td>\n",
       "    </tr>\n",
       "    <tr>\n",
       "      <th>18</th>\n",
       "      <td>1.0</td>\n",
       "      <td>from daily</td>\n",
       "      <td>0.129559</td>\n",
       "    </tr>\n",
       "    <tr>\n",
       "      <th>19</th>\n",
       "      <td>1.0</td>\n",
       "      <td>trendline from</td>\n",
       "      <td>0.129559</td>\n",
       "    </tr>\n",
       "    <tr>\n",
       "      <th>20</th>\n",
       "      <td>1.0</td>\n",
       "      <td>testing</td>\n",
       "      <td>0.126088</td>\n",
       "    </tr>\n",
       "    <tr>\n",
       "      <th>21</th>\n",
       "      <td>1.0</td>\n",
       "      <td>from</td>\n",
       "      <td>0.122229</td>\n",
       "    </tr>\n",
       "    <tr>\n",
       "      <th>22</th>\n",
       "      <td>1.0</td>\n",
       "      <td>testing resistance</td>\n",
       "      <td>0.108877</td>\n",
       "    </tr>\n",
       "    <tr>\n",
       "      <th>23</th>\n",
       "      <td>1.0</td>\n",
       "      <td>jpdesloges</td>\n",
       "      <td>0.097419</td>\n",
       "    </tr>\n",
       "    <tr>\n",
       "      <th>24</th>\n",
       "      <td>1.0</td>\n",
       "      <td>rt jpdesloges</td>\n",
       "      <td>0.097419</td>\n",
       "    </tr>\n",
       "    <tr>\n",
       "      <th>25</th>\n",
       "      <td>1.0</td>\n",
       "      <td>near</td>\n",
       "      <td>0.076743</td>\n",
       "    </tr>\n",
       "    <tr>\n",
       "      <th>26</th>\n",
       "      <td>1.0</td>\n",
       "      <td>jpdesloges into</td>\n",
       "      <td>0.074830</td>\n",
       "    </tr>\n",
       "    <tr>\n",
       "      <th>27</th>\n",
       "      <td>1.0</td>\n",
       "      <td>still</td>\n",
       "      <td>0.070947</td>\n",
       "    </tr>\n",
       "    <tr>\n",
       "      <th>28</th>\n",
       "      <td>1.0</td>\n",
       "      <td>channel trading</td>\n",
       "      <td>0.067675</td>\n",
       "    </tr>\n",
       "    <tr>\n",
       "      <th>29</th>\n",
       "      <td>1.0</td>\n",
       "      <td>dwjhljtjyz</td>\n",
       "      <td>0.063778</td>\n",
       "    </tr>\n",
       "    <tr>\n",
       "      <th>...</th>\n",
       "      <td>...</td>\n",
       "      <td>...</td>\n",
       "      <td>...</td>\n",
       "    </tr>\n",
       "    <tr>\n",
       "      <th>328</th>\n",
       "      <td>1.0</td>\n",
       "      <td>stanley buy</td>\n",
       "      <td>-0.003988</td>\n",
       "    </tr>\n",
       "    <tr>\n",
       "      <th>329</th>\n",
       "      <td>1.0</td>\n",
       "      <td>buy pt</td>\n",
       "      <td>-0.003994</td>\n",
       "    </tr>\n",
       "    <tr>\n",
       "      <th>330</th>\n",
       "      <td>1.0</td>\n",
       "      <td>agricole pt</td>\n",
       "      <td>-0.004024</td>\n",
       "    </tr>\n",
       "    <tr>\n",
       "      <th>331</th>\n",
       "      <td>1.0</td>\n",
       "      <td>reiterated brean</td>\n",
       "      <td>-0.004192</td>\n",
       "    </tr>\n",
       "    <tr>\n",
       "      <th>332</th>\n",
       "      <td>1.0</td>\n",
       "      <td>buy hd</td>\n",
       "      <td>-0.004211</td>\n",
       "    </tr>\n",
       "    <tr>\n",
       "      <th>333</th>\n",
       "      <td>1.0</td>\n",
       "      <td>brean</td>\n",
       "      <td>-0.004600</td>\n",
       "    </tr>\n",
       "    <tr>\n",
       "      <th>334</th>\n",
       "      <td>1.0</td>\n",
       "      <td>brean capital</td>\n",
       "      <td>-0.004600</td>\n",
       "    </tr>\n",
       "    <tr>\n",
       "      <th>335</th>\n",
       "      <td>1.0</td>\n",
       "      <td>credit</td>\n",
       "      <td>-0.004784</td>\n",
       "    </tr>\n",
       "    <tr>\n",
       "      <th>336</th>\n",
       "      <td>1.0</td>\n",
       "      <td>agricole</td>\n",
       "      <td>-0.004924</td>\n",
       "    </tr>\n",
       "    <tr>\n",
       "      <th>337</th>\n",
       "      <td>1.0</td>\n",
       "      <td>credit agricole</td>\n",
       "      <td>-0.004924</td>\n",
       "    </tr>\n",
       "    <tr>\n",
       "      <th>338</th>\n",
       "      <td>1.0</td>\n",
       "      <td>reiterated credit</td>\n",
       "      <td>-0.004945</td>\n",
       "    </tr>\n",
       "    <tr>\n",
       "      <th>339</th>\n",
       "      <td>1.0</td>\n",
       "      <td>pt hd</td>\n",
       "      <td>-0.005136</td>\n",
       "    </tr>\n",
       "    <tr>\n",
       "      <th>340</th>\n",
       "      <td>1.0</td>\n",
       "      <td>morgan</td>\n",
       "      <td>-0.005932</td>\n",
       "    </tr>\n",
       "    <tr>\n",
       "      <th>341</th>\n",
       "      <td>1.0</td>\n",
       "      <td>morgan stanley</td>\n",
       "      <td>-0.005932</td>\n",
       "    </tr>\n",
       "    <tr>\n",
       "      <th>342</th>\n",
       "      <td>1.0</td>\n",
       "      <td>stanley</td>\n",
       "      <td>-0.005932</td>\n",
       "    </tr>\n",
       "    <tr>\n",
       "      <th>343</th>\n",
       "      <td>1.0</td>\n",
       "      <td>capital</td>\n",
       "      <td>-0.006704</td>\n",
       "    </tr>\n",
       "    <tr>\n",
       "      <th>344</th>\n",
       "      <td>1.0</td>\n",
       "      <td>hd</td>\n",
       "      <td>-0.007334</td>\n",
       "    </tr>\n",
       "    <tr>\n",
       "      <th>345</th>\n",
       "      <td>1.0</td>\n",
       "      <td>to buy</td>\n",
       "      <td>-0.008124</td>\n",
       "    </tr>\n",
       "    <tr>\n",
       "      <th>346</th>\n",
       "      <td>1.0</td>\n",
       "      <td>reiterated rating</td>\n",
       "      <td>-0.008294</td>\n",
       "    </tr>\n",
       "    <tr>\n",
       "      <th>347</th>\n",
       "      <td>1.0</td>\n",
       "      <td>pt</td>\n",
       "      <td>-0.009029</td>\n",
       "    </tr>\n",
       "    <tr>\n",
       "      <th>348</th>\n",
       "      <td>1.0</td>\n",
       "      <td>buy rating</td>\n",
       "      <td>-0.009093</td>\n",
       "    </tr>\n",
       "    <tr>\n",
       "      <th>349</th>\n",
       "      <td>1.0</td>\n",
       "      <td>ranked th</td>\n",
       "      <td>-0.009815</td>\n",
       "    </tr>\n",
       "    <tr>\n",
       "      <th>350</th>\n",
       "      <td>1.0</td>\n",
       "      <td>th</td>\n",
       "      <td>-0.009815</td>\n",
       "    </tr>\n",
       "    <tr>\n",
       "      <th>351</th>\n",
       "      <td>1.0</td>\n",
       "      <td>th to</td>\n",
       "      <td>-0.009815</td>\n",
       "    </tr>\n",
       "    <tr>\n",
       "      <th>352</th>\n",
       "      <td>1.0</td>\n",
       "      <td>ranked</td>\n",
       "      <td>-0.009837</td>\n",
       "    </tr>\n",
       "    <tr>\n",
       "      <th>353</th>\n",
       "      <td>1.0</td>\n",
       "      <td>to</td>\n",
       "      <td>-0.009837</td>\n",
       "    </tr>\n",
       "    <tr>\n",
       "      <th>354</th>\n",
       "      <td>1.0</td>\n",
       "      <td>buy</td>\n",
       "      <td>-0.011639</td>\n",
       "    </tr>\n",
       "    <tr>\n",
       "      <th>355</th>\n",
       "      <td>1.0</td>\n",
       "      <td>rating reiterated</td>\n",
       "      <td>-0.011786</td>\n",
       "    </tr>\n",
       "    <tr>\n",
       "      <th>356</th>\n",
       "      <td>1.0</td>\n",
       "      <td>rating</td>\n",
       "      <td>-0.012504</td>\n",
       "    </tr>\n",
       "    <tr>\n",
       "      <th>357</th>\n",
       "      <td>1.0</td>\n",
       "      <td>reiterated</td>\n",
       "      <td>-0.016310</td>\n",
       "    </tr>\n",
       "  </tbody>\n",
       "</table>\n",
       "<p>358 rows × 3 columns</p>\n",
       "</div>"
      ],
      "text/plain": [
       "     component                  term  LSAscore\n",
       "0          1.0             investing  0.252507\n",
       "1          1.0               trading  0.252507\n",
       "2          1.0     trading investing  0.252507\n",
       "3          1.0               channel  0.243332\n",
       "4          1.0                 daily  0.241373\n",
       "5          1.0         daily uptrend  0.239382\n",
       "6          1.0               uptrend  0.239382\n",
       "7          1.0       uptrend channel  0.239382\n",
       "8          1.0             on shares  0.228424\n",
       "9          1.0                shares  0.228424\n",
       "10         1.0        shares trading  0.228424\n",
       "11         1.0                    on  0.222820\n",
       "12         1.0            channel on  0.215963\n",
       "13         1.0                  into  0.156351\n",
       "14         1.0            into daily  0.156351\n",
       "15         1.0            resistance  0.139083\n",
       "16         1.0  resistance trendline  0.139083\n",
       "17         1.0             trendline  0.139083\n",
       "18         1.0            from daily  0.129559\n",
       "19         1.0        trendline from  0.129559\n",
       "20         1.0               testing  0.126088\n",
       "21         1.0                  from  0.122229\n",
       "22         1.0    testing resistance  0.108877\n",
       "23         1.0            jpdesloges  0.097419\n",
       "24         1.0         rt jpdesloges  0.097419\n",
       "25         1.0                  near  0.076743\n",
       "26         1.0       jpdesloges into  0.074830\n",
       "27         1.0                 still  0.070947\n",
       "28         1.0       channel trading  0.067675\n",
       "29         1.0            dwjhljtjyz  0.063778\n",
       "..         ...                   ...       ...\n",
       "328        1.0           stanley buy -0.003988\n",
       "329        1.0                buy pt -0.003994\n",
       "330        1.0           agricole pt -0.004024\n",
       "331        1.0      reiterated brean -0.004192\n",
       "332        1.0                buy hd -0.004211\n",
       "333        1.0                 brean -0.004600\n",
       "334        1.0         brean capital -0.004600\n",
       "335        1.0                credit -0.004784\n",
       "336        1.0              agricole -0.004924\n",
       "337        1.0       credit agricole -0.004924\n",
       "338        1.0     reiterated credit -0.004945\n",
       "339        1.0                 pt hd -0.005136\n",
       "340        1.0                morgan -0.005932\n",
       "341        1.0        morgan stanley -0.005932\n",
       "342        1.0               stanley -0.005932\n",
       "343        1.0               capital -0.006704\n",
       "344        1.0                    hd -0.007334\n",
       "345        1.0                to buy -0.008124\n",
       "346        1.0     reiterated rating -0.008294\n",
       "347        1.0                    pt -0.009029\n",
       "348        1.0            buy rating -0.009093\n",
       "349        1.0             ranked th -0.009815\n",
       "350        1.0                    th -0.009815\n",
       "351        1.0                 th to -0.009815\n",
       "352        1.0                ranked -0.009837\n",
       "353        1.0                    to -0.009837\n",
       "354        1.0                   buy -0.011639\n",
       "355        1.0     rating reiterated -0.011786\n",
       "356        1.0                rating -0.012504\n",
       "357        1.0            reiterated -0.016310\n",
       "\n",
       "[358 rows x 3 columns]"
      ]
     },
     "execution_count": 291,
     "metadata": {},
     "output_type": "execute_result"
    }
   ],
   "source": [
    "#concept_df has k concepts with terms that make each concept up, each concept sorted by the LSA score"
   ]
  },
  {
   "cell_type": "code",
   "execution_count": 325,
   "metadata": {
    "collapsed": false
   },
   "outputs": [],
   "source": [
    "#polarity, subjectivity of most important concept in sample AAPL tweets\n",
    "senti=concept_df.loc[concept_df['component']==0,'term'].apply(lambda term: TextBlob(term).sentiment)[:50]"
   ]
  },
  {
   "cell_type": "code",
   "execution_count": 326,
   "metadata": {
    "collapsed": false
   },
   "outputs": [
    {
     "name": "stdout",
     "output_type": "stream",
     "text": [
      "-0.15\n"
     ]
    }
   ],
   "source": [
    "sentisum=0.0\n",
    "for i in range(len(senti)):\n",
    "    sentisum+=senti[i][0]\n",
    "    \n",
    "print sentisum"
   ]
  },
  {
   "cell_type": "code",
   "execution_count": 302,
   "metadata": {
    "collapsed": false
   },
   "outputs": [
    {
     "data": {
      "text/plain": [
       "0.0"
      ]
     },
     "execution_count": 302,
     "metadata": {},
     "output_type": "execute_result"
    }
   ],
   "source": [
    "senti[0][1]"
   ]
  },
  {
   "cell_type": "code",
   "execution_count": null,
   "metadata": {
    "collapsed": true
   },
   "outputs": [],
   "source": []
  }
 ],
 "metadata": {
  "kernelspec": {
   "display_name": "Python 2",
   "language": "python",
   "name": "python2"
  },
  "language_info": {
   "codemirror_mode": {
    "name": "ipython",
    "version": 2
   },
   "file_extension": ".py",
   "mimetype": "text/x-python",
   "name": "python",
   "nbconvert_exporter": "python",
   "pygments_lexer": "ipython2",
   "version": "2.7.11"
  }
 },
 "nbformat": 4,
 "nbformat_minor": 0
}
